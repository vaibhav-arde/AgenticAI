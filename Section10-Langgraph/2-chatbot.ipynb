{
 "cells": [
  {
   "cell_type": "markdown",
   "metadata": {},
   "source": [
    "### Implementing simple Chatbot Using LangGraph"
   ]
  },
  {
   "cell_type": "code",
   "execution_count": 1,
   "metadata": {},
   "outputs": [],
   "source": [
    "from typing_extensions import TypedDict\n",
    "\n",
    "from langgraph.graph import StateGraph, START, END\n",
    "\n",
    "## Reducers\n",
    "from typing import Annotated\n",
    "from langgraph.graph.message import add_messages"
   ]
  },
  {
   "cell_type": "code",
   "execution_count": 2,
   "metadata": {},
   "outputs": [],
   "source": [
    "class State(TypedDict):\n",
    "    messages:Annotated[list,add_messages]"
   ]
  },
  {
   "cell_type": "code",
   "execution_count": 5,
   "metadata": {},
   "outputs": [],
   "source": [
    "import os\n",
    "from dotenv import load_dotenv\n",
    "load_dotenv()\n",
    "\n",
    "# os.environ[\"OPENAI_API_KEY\"]=os.getenv(\"OPENAI_API_KEY\")\n",
    "os.environ[\"GROQ_API_KEY\"]=os.getenv(\"GROQ_API_KEY\")\n"
   ]
  },
  {
   "cell_type": "code",
   "execution_count": 4,
   "metadata": {},
   "outputs": [
    {
     "data": {
      "text/plain": [
       "AIMessage(content='Hello! How can I assist you today?', additional_kwargs={'refusal': None}, response_metadata={'token_usage': {'completion_tokens': 10, 'prompt_tokens': 8, 'total_tokens': 18, 'completion_tokens_details': {'accepted_prediction_tokens': 0, 'audio_tokens': 0, 'reasoning_tokens': 0, 'rejected_prediction_tokens': 0}, 'prompt_tokens_details': {'audio_tokens': 0, 'cached_tokens': 0}}, 'model_name': 'gpt-4o-2024-08-06', 'system_fingerprint': 'fp_f9f4fb6dbf', 'finish_reason': 'stop', 'logprobs': None}, id='run-902c91c5-ea3a-4466-a6c3-fea75daf2ca0-0', usage_metadata={'input_tokens': 8, 'output_tokens': 10, 'total_tokens': 18, 'input_token_details': {'audio': 0, 'cache_read': 0}, 'output_token_details': {'audio': 0, 'reasoning': 0}})"
      ]
     },
     "execution_count": 4,
     "metadata": {},
     "output_type": "execute_result"
    }
   ],
   "source": [
    "from langchain_openai import ChatOpenAI\n",
    "llm=ChatOpenAI(model=\"gpt-4o\")\n",
    "llm.invoke(\"Hello\")"
   ]
  },
  {
   "cell_type": "code",
   "execution_count": 8,
   "metadata": {},
   "outputs": [
    {
     "data": {
      "text/plain": [
       "AIMessage(content='Hey VaibhaV! 👋 It’s great to hear you’re into cricket. Do you play a particular position or have a favorite team or player you follow? I’d love to hear more about what you enjoy most about the game!', additional_kwargs={'reasoning_content': 'User says \"Hey I am VaibhaV and i like to play cricket\". We need to respond appropriately. The user hasn\\'t asked a question. It\\'s a statement. We can respond with greeting, maybe ask something about cricket. They are VaibhaV. We can ask what they like about cricket, favorite teams, or play cricket. Or ask for what they\\'d like to discuss. The developer message is empty. There\\'s no instruction that we must ask them. We can respond friendly.'}, response_metadata={'token_usage': {'completion_tokens': 157, 'prompt_tokens': 84, 'total_tokens': 241, 'completion_time': 0.131847091, 'prompt_time': 0.005925333, 'queue_time': 0.048881598, 'total_time': 0.137772424}, 'model_name': 'openai/gpt-oss-20b', 'system_fingerprint': 'fp_fd68d84dd3', 'service_tier': 'on_demand', 'finish_reason': 'stop', 'logprobs': None}, id='run--34ffc06b-d79d-4683-ab7f-41ccdc31cc99-0', usage_metadata={'input_tokens': 84, 'output_tokens': 157, 'total_tokens': 241})"
      ]
     },
     "execution_count": 8,
     "metadata": {},
     "output_type": "execute_result"
    }
   ],
   "source": [
    "from langchain_groq import ChatGroq\n",
    "\n",
    "llm_groq=ChatGroq(model=\"openai/gpt-oss-20b\")\n",
    "llm_groq.invoke(\"Hey I am VaibhaV and i like to play cricket\")"
   ]
  },
  {
   "cell_type": "markdown",
   "metadata": {},
   "source": [
    "### We Will start With Creating Nodes"
   ]
  },
  {
   "cell_type": "code",
   "execution_count": 9,
   "metadata": {},
   "outputs": [],
   "source": [
    "def superbot(state:State):\n",
    "    return {\"messages\":[llm_groq.invoke(state['messages'])]}"
   ]
  },
  {
   "cell_type": "code",
   "execution_count": 10,
   "metadata": {},
   "outputs": [
    {
     "data": {
      "image/png": "[encoded data removed]",
      "text/plain": [
       "<IPython.core.display.Image object>"
      ]
     },
     "metadata": {},
     "output_type": "display_data"
    }
   ],
   "source": [
    "graph=StateGraph(State)\n",
    "\n",
    "## node\n",
    "graph.add_node(\"SuperBot\",superbot)\n",
    "## Edges\n",
    "\n",
    "graph.add_edge(START,\"SuperBot\")\n",
    "graph.add_edge(\"SuperBot\",END)\n",
    "\n",
    "\n",
    "graph_builder=graph.compile()\n",
    "\n",
    "\n",
    "## Display\n",
    "from IPython.display import Image, display\n",
    "display(Image(graph_builder.get_graph().draw_mermaid_png()))"
   ]
  },
  {
   "cell_type": "code",
   "execution_count": 11,
   "metadata": {},
   "outputs": [
    {
     "data": {
      "text/plain": [
       "{'messages': [HumanMessage(content='Hi,My name is VaibhaV And I like cricket', additional_kwargs={}, response_metadata={}, id='3489ad57-da4a-44a2-b389-739f784052f8'),\n",
       "  AIMessage(content='Hey VaibhaV! 👋 Glad to meet a fellow cricket lover. Which team or player do you follow the most? And any recent matches that got you excited?', additional_kwargs={'reasoning_content': 'User: \"Hi,My name is VaibhaV And I like cricket\". We should respond in a friendly way, maybe ask about cricket. The user is a cricket fan. We can ask about favorite team, etc. They might want small conversation. Also we can ask about favorite player. Keep it casual.'}, response_metadata={'token_usage': {'completion_tokens': 109, 'prompt_tokens': 84, 'total_tokens': 193, 'completion_time': 0.090354429, 'prompt_time': 0.005989171, 'queue_time': 0.044183565, 'total_time': 0.0963436}, 'model_name': 'openai/gpt-oss-20b', 'system_fingerprint': 'fp_fd68d84dd3', 'service_tier': 'on_demand', 'finish_reason': 'stop', 'logprobs': None}, id='run--9eab831a-9444-4bc5-a892-2248a391d88e-0', usage_metadata={'input_tokens': 84, 'output_tokens': 109, 'total_tokens': 193})]}"
      ]
     },
     "execution_count": 11,
     "metadata": {},
     "output_type": "execute_result"
    }
   ],
   "source": [
    "## Invocation\n",
    "\n",
    "graph_builder.invoke({'messages':\"Hi,My name is VaibhaV And I like cricket\"})"
   ]
  },
  {
   "cell_type": "markdown",
   "metadata": {},
   "source": [
    "#### Streaming The responses"
   ]
  },
  {
   "cell_type": "code",
   "execution_count": 19,
   "metadata": {},
   "outputs": [
    {
     "name": "stdout",
     "output_type": "stream",
     "text": [
      "{'SuperBot': {'messages': [AIMessage(content='Hello VaihbaV! How can I help you today?', additional_kwargs={'reasoning_content': 'We just greet.'}, response_metadata={'token_usage': {'completion_tokens': 27, 'prompt_tokens': 79, 'total_tokens': 106, 'completion_time': 0.022362239, 'prompt_time': 0.006357858, 'queue_time': 0.418578292, 'total_time': 0.028720097}, 'model_name': 'openai/gpt-oss-20b', 'system_fingerprint': 'fp_fc8da5621e', 'service_tier': 'on_demand', 'finish_reason': 'stop', 'logprobs': None}, id='run--1834b39e-4bc0-4c7d-a32c-5e47f8c50177-0', usage_metadata={'input_tokens': 79, 'output_tokens': 27, 'total_tokens': 106})]}}\n"
     ]
    }
   ],
   "source": [
    "for event in graph_builder.stream({\"messages\":\"Hello My name is VaihbaV\"}):\n",
    "    print(event)"
   ]
  },
  {
   "cell_type": "code",
   "execution_count": 20,
   "metadata": {},
   "outputs": [
    {
     "name": "stdout",
     "output_type": "stream",
     "text": [
      "{'messages': [HumanMessage(content='Hello My name is VaihbaV', additional_kwargs={}, response_metadata={}, id='77ef3e48-da90-47f1-aea7-fed7bc8a8962')]}\n",
      "{'messages': [HumanMessage(content='Hello My name is VaihbaV', additional_kwargs={}, response_metadata={}, id='77ef3e48-da90-47f1-aea7-fed7bc8a8962'), AIMessage(content='Hello VaihbaV! How can I help you today?', additional_kwargs={'reasoning_content': 'User says hello. We just greet.'}, response_metadata={'token_usage': {'completion_tokens': 31, 'prompt_tokens': 79, 'total_tokens': 110, 'completion_time': 0.025779742, 'prompt_time': 0.005726228, 'queue_time': 0.045070082, 'total_time': 0.03150597}, 'model_name': 'openai/gpt-oss-20b', 'system_fingerprint': 'fp_fc8da5621e', 'service_tier': 'on_demand', 'finish_reason': 'stop', 'logprobs': None}, id='run--313c48f3-b494-4c3a-b4b8-785574783d2b-0', usage_metadata={'input_tokens': 79, 'output_tokens': 31, 'total_tokens': 110})]}\n"
     ]
    }
   ],
   "source": [
    "for event in graph_builder.stream({\"messages\":\"Hello My name is VaihbaV\"}, stream_mode=\"values\"):\n",
    "    print(event)"
   ]
  },
  {
   "cell_type": "code",
   "execution_count": 21,
   "metadata": {},
   "outputs": [
    {
     "name": "stdout",
     "output_type": "stream",
     "text": [
      "{'SuperBot': {'messages': [AIMessage(content='Hello VaihbaV! 👋 How can I help you today?', additional_kwargs={'reasoning_content': 'We need to respond politely. Probably ask how to help.'}, response_metadata={'token_usage': {'completion_tokens': 37, 'prompt_tokens': 79, 'total_tokens': 116, 'completion_time': 0.030821274, 'prompt_time': 0.005708994, 'queue_time': 0.043995162, 'total_time': 0.036530268}, 'model_name': 'openai/gpt-oss-20b', 'system_fingerprint': 'fp_fd68d84dd3', 'service_tier': 'on_demand', 'finish_reason': 'stop', 'logprobs': None}, id='run--8c860d77-92de-4b68-a3b4-7926085ae888-0', usage_metadata={'input_tokens': 79, 'output_tokens': 37, 'total_tokens': 116})]}}\n"
     ]
    }
   ],
   "source": [
    "for event in graph_builder.stream({\"messages\":\"Hello My name is VaihbaV\"}, stream_mode=\"updates\"):\n",
    "    print(event)"
   ]
  }
 ],
 "metadata": {
  "kernelspec": {
   "display_name": "agentnotes",
   "language": "python",
   "name": "python3"
  },
  "language_info": {
   "codemirror_mode": {
    "name": "ipython",
    "version": 3
   },
   "file_extension": ".py",
   "mimetype": "text/x-python",
   "name": "python",
   "nbconvert_exporter": "python",
   "pygments_lexer": "ipython3",
   "version": "3.11.11"
  }
 },
 "nbformat": 4,
 "nbformat_minor": 2
}
