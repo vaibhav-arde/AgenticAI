{
 "cells": [
  {
   "cell_type": "markdown",
   "id": "3ff7eda1",
   "metadata": {},
   "source": [
    "## PRint statement"
   ]
  },
  {
   "cell_type": "code",
   "execution_count": 1,
   "id": "1970d97f",
   "metadata": {},
   "outputs": [
    {
     "name": "stdout",
     "output_type": "stream",
     "text": [
      "VaibhaV\n"
     ]
    }
   ],
   "source": [
    "print(\"VaibhaV\")"
   ]
  },
  {
   "cell_type": "code",
   "execution_count": 3,
   "id": "b33806f5",
   "metadata": {},
   "outputs": [
    {
     "data": {
      "application/javascript": "console.log(\"VaibhaV\")\n",
      "text/plain": [
       "<IPython.core.display.Javascript object>"
      ]
     },
     "metadata": {},
     "output_type": "display_data"
    }
   ],
   "source": [
    "%%javascript\n",
    "console.log(\"VaibhaV\")"
   ]
  }
 ],
 "metadata": {
  "kernelspec": {
   "display_name": "agentnotes",
   "language": "python",
   "name": "python3"
  },
  "language_info": {
   "codemirror_mode": {
    "name": "ipython",
    "version": 3
   },
   "file_extension": ".py",
   "mimetype": "text/x-python",
   "name": "python",
   "nbconvert_exporter": "python",
   "pygments_lexer": "ipython3",
   "version": "3.11.11"
  }
 },
 "nbformat": 4,
 "nbformat_minor": 5
}
