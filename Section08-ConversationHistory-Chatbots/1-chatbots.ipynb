{
 "cells": [
  {
   "cell_type": "markdown",
   "metadata": {},
   "source": [
    "## Building A Chatbot\n",
    "In this video We'll go over an example of how to design and implement an LLM-powered chatbot. This chatbot will be able to have a conversation and remember previous interactions.\n",
    "\n",
    "Note that this chatbot that we build will only use the language model to have a conversation. There are several other related concepts that you may be looking for:\n",
    "\n",
    "- Conversational RAG: Enable a chatbot experience over an external source of data\n",
    "- Agents: Build a chatbot that can take actions\n",
    "\n",
    "This video tutorial will cover the basics which will be helpful for those two more advanced topics."
   ]
  },
  {
   "cell_type": "code",
   "execution_count": null,
   "metadata": {},
   "outputs": [],
   "source": [
    "import os\n",
    "from dotenv import load_dotenv\n",
    "load_dotenv() ## aloading all the environment variable\n",
    "\n",
    "groq_api_key=os.getenv(\"GROQ_API_KEY\")\n",
    "\n"
   ]
  },
  {
   "cell_type": "code",
   "execution_count": null,
   "metadata": {},
   "outputs": [
    {
     "data": {
      "text/plain": [
       "ChatGroq(client=<groq.resources.chat.completions.Completions object at 0x10ade54d0>, async_client=<groq.resources.chat.completions.AsyncCompletions object at 0x10b024410>, model_name='Gemma2-9b-It', model_kwargs={}, groq_api_key=SecretStr('**********'))"
      ]
     },
     "execution_count": 2,
     "metadata": {},
     "output_type": "execute_result"
    }
   ],
   "source": [
    "from langchain_groq import ChatGroq\n",
    "model=ChatGroq(model=\"Gemma2-9b-It\",groq_api_key=groq_api_key)"
   ]
  },
  {
   "cell_type": "code",
   "execution_count": 4,
   "metadata": {},
   "outputs": [
    {
     "data": {
      "text/plain": [
       "AIMessage(content=\"Hello Vaibhav, it's a pleasure to meet you! \\n\\nBeing a Chief AI Engineer is a fascinating role. What kind of projects are you currently working on?  \\n\\nI'm always eager to learn more about the exciting work being done in the field of AI.\\n\", additional_kwargs={}, response_metadata={'token_usage': {'completion_tokens': 61, 'prompt_tokens': 25, 'total_tokens': 86, 'completion_time': 0.110909091, 'prompt_time': 0.001412199, 'queue_time': 0.253876161, 'total_time': 0.11232129}, 'model_name': 'Gemma2-9b-It', 'system_fingerprint': 'fp_10c08bf97d', 'service_tier': 'on_demand', 'finish_reason': 'stop', 'logprobs': None}, id='run--32858159-14e3-4577-94e4-5a35f2408a10-0', usage_metadata={'input_tokens': 25, 'output_tokens': 61, 'total_tokens': 86})"
      ]
     },
     "execution_count": 4,
     "metadata": {},
     "output_type": "execute_result"
    }
   ],
   "source": [
    "from langchain_core.messages import HumanMessage\n",
    "model.invoke([HumanMessage(content=\"Hi , My name is VaibhaV and I am a Chief AI Engineer\")])"
   ]
  },
  {
   "cell_type": "code",
   "execution_count": 5,
   "metadata": {},
   "outputs": [
    {
     "data": {
      "text/plain": [
       "AIMessage(content=\"As an AI, I have no memory of past conversations and I don't know who you are.\\n\\nIs there anything I can help you with?\\n\", additional_kwargs={}, response_metadata={'token_usage': {'completion_tokens': 34, 'prompt_tokens': 17, 'total_tokens': 51, 'completion_time': 0.061818182, 'prompt_time': 0.001248359, 'queue_time': 0.254320568, 'total_time': 0.063066541}, 'model_name': 'Gemma2-9b-It', 'system_fingerprint': 'fp_10c08bf97d', 'service_tier': 'on_demand', 'finish_reason': 'stop', 'logprobs': None}, id='run--7c7864fc-9e55-4c54-bdfb-e8141c76ecf7-0', usage_metadata={'input_tokens': 17, 'output_tokens': 34, 'total_tokens': 51})"
      ]
     },
     "execution_count": 5,
     "metadata": {},
     "output_type": "execute_result"
    }
   ],
   "source": [
    "from langchain_core.messages import HumanMessage\n",
    "model.invoke([HumanMessage(content=\"Hi do you know who I am?\")])"
   ]
  },
  {
   "cell_type": "code",
   "execution_count": 6,
   "metadata": {},
   "outputs": [
    {
     "data": {
      "text/plain": [
       "AIMessage(content=\"You are VaibhaV, and you are a Chief AI Engineer!  \\n\\nIs there anything else you'd like me to remember about you?  Perhaps some of your current projects or areas of expertise? 😊  \\n\\n\", additional_kwargs={}, response_metadata={'token_usage': {'completion_tokens': 49, 'prompt_tokens': 103, 'total_tokens': 152, 'completion_time': 0.089090909, 'prompt_time': 0.003372697, 'queue_time': 0.25370465400000003, 'total_time': 0.092463606}, 'model_name': 'Gemma2-9b-It', 'system_fingerprint': 'fp_10c08bf97d', 'service_tier': 'on_demand', 'finish_reason': 'stop', 'logprobs': None}, id='run--a7eea95e-477f-43d3-b7ae-7748615ed585-0', usage_metadata={'input_tokens': 103, 'output_tokens': 49, 'total_tokens': 152})"
      ]
     },
     "execution_count": 6,
     "metadata": {},
     "output_type": "execute_result"
    }
   ],
   "source": [
    "from langchain_core.messages import AIMessage\n",
    "model.invoke(\n",
    "    [\n",
    "        HumanMessage(content=\"Hi , My name is VaibhaV and I am a Chief AI Engineer\"),\n",
    "        AIMessage(content=\"Hello VaibhaV! It's nice to meet you. \\n\\nAs a Chief AI Engineer, what kind of projects are you working on these days? \\n\\nI'm always eager to learn more about the exciting work being done in the field of AI.\\n\"),\n",
    "        HumanMessage(content=\"Hey What's my name and what do I do?\")\n",
    "    ]\n",
    ")"
   ]
  },
  {
   "cell_type": "markdown",
   "metadata": {},
   "source": [
    "### Message History\n",
    "We can use a Message History class to wrap our model and make it stateful. This will keep track of inputs and outputs of the model, and store them in some datastore. Future interactions will then load those messages and pass them into the chain as part of the input. Let's see how to use this!"
   ]
  },
  {
   "cell_type": "code",
   "execution_count": 5,
   "metadata": {},
   "outputs": [
    {
     "name": "stdout",
     "output_type": "stream",
     "text": [
      "Requirement already satisfied: langchain_community in e:\\udemy final\\langchain\\venv\\lib\\site-packages (0.2.5)\n",
      "Requirement already satisfied: PyYAML>=5.3 in e:\\udemy final\\langchain\\venv\\lib\\site-packages (from langchain_community) (6.0.1)\n",
      "Requirement already satisfied: SQLAlchemy<3,>=1.4 in e:\\udemy final\\langchain\\venv\\lib\\site-packages (from langchain_community) (2.0.30)\n",
      "Requirement already satisfied: aiohttp<4.0.0,>=3.8.3 in e:\\udemy final\\langchain\\venv\\lib\\site-packages (from langchain_community) (3.9.5)\n",
      "Requirement already satisfied: dataclasses-json<0.7,>=0.5.7 in e:\\udemy final\\langchain\\venv\\lib\\site-packages (from langchain_community) (0.6.7)\n",
      "Requirement already satisfied: langchain<0.3.0,>=0.2.5 in e:\\udemy final\\langchain\\venv\\lib\\site-packages (from langchain_community) (0.2.5)\n",
      "Requirement already satisfied: langchain-core<0.3.0,>=0.2.7 in e:\\udemy final\\langchain\\venv\\lib\\site-packages (from langchain_community) (0.2.10)\n",
      "Requirement already satisfied: langsmith<0.2.0,>=0.1.0 in e:\\udemy final\\langchain\\venv\\lib\\site-packages (from langchain_community) (0.1.77)\n",
      "Requirement already satisfied: numpy<2,>=1 in e:\\udemy final\\langchain\\venv\\lib\\site-packages (from langchain_community) (1.26.4)\n",
      "Requirement already satisfied: requests<3,>=2 in e:\\udemy final\\langchain\\venv\\lib\\site-packages (from langchain_community) (2.31.0)\n",
      "Requirement already satisfied: tenacity<9.0.0,>=8.1.0 in e:\\udemy final\\langchain\\venv\\lib\\site-packages (from langchain_community) (8.4.1)\n",
      "Requirement already satisfied: aiosignal>=1.1.2 in e:\\udemy final\\langchain\\venv\\lib\\site-packages (from aiohttp<4.0.0,>=3.8.3->langchain_community) (1.3.1)\n",
      "Requirement already satisfied: attrs>=17.3.0 in e:\\udemy final\\langchain\\venv\\lib\\site-packages (from aiohttp<4.0.0,>=3.8.3->langchain_community) (23.2.0)\n",
      "Requirement already satisfied: frozenlist>=1.1.1 in e:\\udemy final\\langchain\\venv\\lib\\site-packages (from aiohttp<4.0.0,>=3.8.3->langchain_community) (1.4.1)\n",
      "Requirement already satisfied: multidict<7.0,>=4.5 in e:\\udemy final\\langchain\\venv\\lib\\site-packages (from aiohttp<4.0.0,>=3.8.3->langchain_community) (6.0.5)\n",
      "Requirement already satisfied: yarl<2.0,>=1.0 in e:\\udemy final\\langchain\\venv\\lib\\site-packages (from aiohttp<4.0.0,>=3.8.3->langchain_community) (1.9.4)\n",
      "Requirement already satisfied: async-timeout<5.0,>=4.0 in e:\\udemy final\\langchain\\venv\\lib\\site-packages (from aiohttp<4.0.0,>=3.8.3->langchain_community) (4.0.3)\n",
      "Requirement already satisfied: marshmallow<4.0.0,>=3.18.0 in e:\\udemy final\\langchain\\venv\\lib\\site-packages (from dataclasses-json<0.7,>=0.5.7->langchain_community) (3.21.3)\n",
      "Requirement already satisfied: typing-inspect<1,>=0.4.0 in e:\\udemy final\\langchain\\venv\\lib\\site-packages (from dataclasses-json<0.7,>=0.5.7->langchain_community) (0.9.0)\n",
      "Requirement already satisfied: langchain-text-splitters<0.3.0,>=0.2.0 in e:\\udemy final\\langchain\\venv\\lib\\site-packages (from langchain<0.3.0,>=0.2.5->langchain_community) (0.2.1)\n",
      "Requirement already satisfied: pydantic<3,>=1 in e:\\udemy final\\langchain\\venv\\lib\\site-packages (from langchain<0.3.0,>=0.2.5->langchain_community) (1.10.13)\n",
      "Requirement already satisfied: jsonpatch<2.0,>=1.33 in e:\\udemy final\\langchain\\venv\\lib\\site-packages (from langchain-core<0.3.0,>=0.2.7->langchain_community) (1.33)\n",
      "Requirement already satisfied: packaging<25,>=23.2 in e:\\udemy final\\langchain\\venv\\lib\\site-packages (from langchain-core<0.3.0,>=0.2.7->langchain_community) (24.1)\n",
      "Requirement already satisfied: orjson<4.0.0,>=3.9.14 in e:\\udemy final\\langchain\\venv\\lib\\site-packages (from langsmith<0.2.0,>=0.1.0->langchain_community) (3.10.5)\n",
      "Requirement already satisfied: charset-normalizer<4,>=2 in e:\\udemy final\\langchain\\venv\\lib\\site-packages (from requests<3,>=2->langchain_community) (3.3.2)\n",
      "Requirement already satisfied: idna<4,>=2.5 in e:\\udemy final\\langchain\\venv\\lib\\site-packages (from requests<3,>=2->langchain_community) (3.7)\n",
      "Requirement already satisfied: urllib3<3,>=1.21.1 in e:\\udemy final\\langchain\\venv\\lib\\site-packages (from requests<3,>=2->langchain_community) (2.2.2)\n",
      "Requirement already satisfied: certifi>=2017.4.17 in e:\\udemy final\\langchain\\venv\\lib\\site-packages (from requests<3,>=2->langchain_community) (2024.6.2)\n",
      "Requirement already satisfied: typing-extensions>=4.6.0 in e:\\udemy final\\langchain\\venv\\lib\\site-packages (from SQLAlchemy<3,>=1.4->langchain_community) (4.12.2)\n",
      "Requirement already satisfied: greenlet!=0.4.17 in e:\\udemy final\\langchain\\venv\\lib\\site-packages (from SQLAlchemy<3,>=1.4->langchain_community) (3.0.3)\n",
      "Requirement already satisfied: jsonpointer>=1.9 in e:\\udemy final\\langchain\\venv\\lib\\site-packages (from jsonpatch<2.0,>=1.33->langchain-core<0.3.0,>=0.2.7->langchain_community) (3.0.0)\n",
      "Requirement already satisfied: mypy-extensions>=0.3.0 in e:\\udemy final\\langchain\\venv\\lib\\site-packages (from typing-inspect<1,>=0.4.0->dataclasses-json<0.7,>=0.5.7->langchain_community) (1.0.0)\n"
     ]
    }
   ],
   "source": [
    "!pip install langchain_community"
   ]
  },
  {
   "cell_type": "code",
   "execution_count": 7,
   "metadata": {},
   "outputs": [],
   "source": [
    "from langchain_community.chat_message_histories import ChatMessageHistory\n",
    "from langchain_core.chat_history import BaseChatMessageHistory\n",
    "from langchain_core.runnables.history import RunnableWithMessageHistory\n",
    "\n",
    "store={}\n",
    "\n",
    "def get_session_history(session_id:str)->BaseChatMessageHistory:\n",
    "    if session_id not in store:\n",
    "        store[session_id]=ChatMessageHistory()\n",
    "    return store[session_id]\n",
    "\n",
    "with_message_history=RunnableWithMessageHistory(model,get_session_history)"
   ]
  },
  {
   "cell_type": "code",
   "execution_count": 9,
   "metadata": {},
   "outputs": [
    {
     "data": {
      "text/plain": [
       "{'configurable': {'session_id': 'chat1'}}"
      ]
     },
     "execution_count": 9,
     "metadata": {},
     "output_type": "execute_result"
    }
   ],
   "source": [
    "config={\"configurable\":{\"session_id\":\"chat1\"}}\n",
    "config"
   ]
  },
  {
   "cell_type": "code",
   "execution_count": 10,
   "metadata": {},
   "outputs": [],
   "source": [
    "response=with_message_history.invoke(\n",
    "    [HumanMessage(content=\"Hi , My name is VaibhaV and I am a Chief AI Engineer\")],\n",
    "    config=config\n",
    ")"
   ]
  },
  {
   "cell_type": "code",
   "execution_count": 11,
   "metadata": {},
   "outputs": [
    {
     "data": {
      "text/plain": [
       "\"Hello Vaibhav, it's nice to meet you! \\n\\nBeing a Chief AI Engineer is a fascinating role. What kind of projects are you working on these days? I'm always eager to learn more about the cutting edge of AI.\\n\""
      ]
     },
     "execution_count": 11,
     "metadata": {},
     "output_type": "execute_result"
    }
   ],
   "source": [
    "response.content"
   ]
  },
  {
   "cell_type": "code",
   "execution_count": 12,
   "metadata": {},
   "outputs": [
    {
     "data": {
      "text/plain": [
       "{'chat1': InMemoryChatMessageHistory(messages=[HumanMessage(content='Hi , My name is VaibhaV and I am a Chief AI Engineer', additional_kwargs={}, response_metadata={}), AIMessage(content=\"Hello Vaibhav, it's nice to meet you! \\n\\nBeing a Chief AI Engineer is a fascinating role. What kind of projects are you working on these days? I'm always eager to learn more about the cutting edge of AI.\\n\", additional_kwargs={}, response_metadata={'token_usage': {'completion_tokens': 54, 'prompt_tokens': 25, 'total_tokens': 79, 'completion_time': 0.098181818, 'prompt_time': 0.001401509, 'queue_time': 0.255242182, 'total_time': 0.099583327}, 'model_name': 'Gemma2-9b-It', 'system_fingerprint': 'fp_10c08bf97d', 'service_tier': 'on_demand', 'finish_reason': 'stop', 'logprobs': None}, id='run--b613b90b-db54-48d2-a7ea-e4439f068319-0', usage_metadata={'input_tokens': 25, 'output_tokens': 54, 'total_tokens': 79})])}"
      ]
     },
     "execution_count": 12,
     "metadata": {},
     "output_type": "execute_result"
    }
   ],
   "source": [
    "store"
   ]
  },
  {
   "cell_type": "code",
   "execution_count": 13,
   "metadata": {},
   "outputs": [
    {
     "data": {
      "text/plain": [
       "AIMessage(content='Your name is Vaibhav, as you introduced yourself at the beginning of our conversation.  😊  \\n\\nIs there anything else I can help you with?\\n', additional_kwargs={}, response_metadata={'token_usage': {'completion_tokens': 35, 'prompt_tokens': 93, 'total_tokens': 128, 'completion_time': 0.063636364, 'prompt_time': 0.002600979, 'queue_time': 0.250798285, 'total_time': 0.066237343}, 'model_name': 'Gemma2-9b-It', 'system_fingerprint': 'fp_10c08bf97d', 'service_tier': 'on_demand', 'finish_reason': 'stop', 'logprobs': None}, id='run--60587a3c-ee7c-4716-a9a3-47480e27b299-0', usage_metadata={'input_tokens': 93, 'output_tokens': 35, 'total_tokens': 128})"
      ]
     },
     "execution_count": 13,
     "metadata": {},
     "output_type": "execute_result"
    }
   ],
   "source": [
    "with_message_history.invoke(\n",
    "    [HumanMessage(content=\"What's my name?\")],\n",
    "    config=config,\n",
    ")"
   ]
  },
  {
   "cell_type": "code",
   "execution_count": 14,
   "metadata": {},
   "outputs": [
    {
     "data": {
      "text/plain": [
       "{'chat1': InMemoryChatMessageHistory(messages=[HumanMessage(content='Hi , My name is VaibhaV and I am a Chief AI Engineer', additional_kwargs={}, response_metadata={}), AIMessage(content=\"Hello Vaibhav, it's nice to meet you! \\n\\nBeing a Chief AI Engineer is a fascinating role. What kind of projects are you working on these days? I'm always eager to learn more about the cutting edge of AI.\\n\", additional_kwargs={}, response_metadata={'token_usage': {'completion_tokens': 54, 'prompt_tokens': 25, 'total_tokens': 79, 'completion_time': 0.098181818, 'prompt_time': 0.001401509, 'queue_time': 0.255242182, 'total_time': 0.099583327}, 'model_name': 'Gemma2-9b-It', 'system_fingerprint': 'fp_10c08bf97d', 'service_tier': 'on_demand', 'finish_reason': 'stop', 'logprobs': None}, id='run--b613b90b-db54-48d2-a7ea-e4439f068319-0', usage_metadata={'input_tokens': 25, 'output_tokens': 54, 'total_tokens': 79}), HumanMessage(content=\"What's my name?\", additional_kwargs={}, response_metadata={}), AIMessage(content='Your name is Vaibhav, as you introduced yourself at the beginning of our conversation.  😊  \\n\\nIs there anything else I can help you with?\\n', additional_kwargs={}, response_metadata={'token_usage': {'completion_tokens': 35, 'prompt_tokens': 93, 'total_tokens': 128, 'completion_time': 0.063636364, 'prompt_time': 0.002600979, 'queue_time': 0.250798285, 'total_time': 0.066237343}, 'model_name': 'Gemma2-9b-It', 'system_fingerprint': 'fp_10c08bf97d', 'service_tier': 'on_demand', 'finish_reason': 'stop', 'logprobs': None}, id='run--60587a3c-ee7c-4716-a9a3-47480e27b299-0', usage_metadata={'input_tokens': 93, 'output_tokens': 35, 'total_tokens': 128})])}"
      ]
     },
     "execution_count": 14,
     "metadata": {},
     "output_type": "execute_result"
    }
   ],
   "source": [
    "store"
   ]
  },
  {
   "cell_type": "code",
   "execution_count": 15,
   "metadata": {},
   "outputs": [
    {
     "data": {
      "text/plain": [
       "\"As an AI, I have no memory of past conversations and do not know your name. If you'd like to tell me, I'm happy to learn it! 😊\\n\""
      ]
     },
     "execution_count": 15,
     "metadata": {},
     "output_type": "execute_result"
    }
   ],
   "source": [
    "## change the config-->session id\n",
    "config1={\"configurable\":{\"session_id\":\"chat2\"}}\n",
    "response=with_message_history.invoke(\n",
    "    [HumanMessage(content=\"Whats my name\")],\n",
    "    config=config1\n",
    ")\n",
    "response.content"
   ]
  },
  {
   "cell_type": "code",
   "execution_count": 16,
   "metadata": {},
   "outputs": [
    {
     "data": {
      "text/plain": [
       "{'chat1': InMemoryChatMessageHistory(messages=[HumanMessage(content='Hi , My name is VaibhaV and I am a Chief AI Engineer', additional_kwargs={}, response_metadata={}), AIMessage(content=\"Hello Vaibhav, it's nice to meet you! \\n\\nBeing a Chief AI Engineer is a fascinating role. What kind of projects are you working on these days? I'm always eager to learn more about the cutting edge of AI.\\n\", additional_kwargs={}, response_metadata={'token_usage': {'completion_tokens': 54, 'prompt_tokens': 25, 'total_tokens': 79, 'completion_time': 0.098181818, 'prompt_time': 0.001401509, 'queue_time': 0.255242182, 'total_time': 0.099583327}, 'model_name': 'Gemma2-9b-It', 'system_fingerprint': 'fp_10c08bf97d', 'service_tier': 'on_demand', 'finish_reason': 'stop', 'logprobs': None}, id='run--b613b90b-db54-48d2-a7ea-e4439f068319-0', usage_metadata={'input_tokens': 25, 'output_tokens': 54, 'total_tokens': 79}), HumanMessage(content=\"What's my name?\", additional_kwargs={}, response_metadata={}), AIMessage(content='Your name is Vaibhav, as you introduced yourself at the beginning of our conversation.  😊  \\n\\nIs there anything else I can help you with?\\n', additional_kwargs={}, response_metadata={'token_usage': {'completion_tokens': 35, 'prompt_tokens': 93, 'total_tokens': 128, 'completion_time': 0.063636364, 'prompt_time': 0.002600979, 'queue_time': 0.250798285, 'total_time': 0.066237343}, 'model_name': 'Gemma2-9b-It', 'system_fingerprint': 'fp_10c08bf97d', 'service_tier': 'on_demand', 'finish_reason': 'stop', 'logprobs': None}, id='run--60587a3c-ee7c-4716-a9a3-47480e27b299-0', usage_metadata={'input_tokens': 93, 'output_tokens': 35, 'total_tokens': 128})]),\n",
       " 'chat2': InMemoryChatMessageHistory(messages=[HumanMessage(content='Whats my name', additional_kwargs={}, response_metadata={}), AIMessage(content=\"As an AI, I have no memory of past conversations and do not know your name. If you'd like to tell me, I'm happy to learn it! 😊\\n\", additional_kwargs={}, response_metadata={'token_usage': {'completion_tokens': 39, 'prompt_tokens': 12, 'total_tokens': 51, 'completion_time': 0.070909091, 'prompt_time': 0.001176589, 'queue_time': 0.255580844, 'total_time': 0.07208568}, 'model_name': 'Gemma2-9b-It', 'system_fingerprint': 'fp_10c08bf97d', 'service_tier': 'on_demand', 'finish_reason': 'stop', 'logprobs': None}, id='run--b4c8db36-1b20-4df2-9325-564dc55c5155-0', usage_metadata={'input_tokens': 12, 'output_tokens': 39, 'total_tokens': 51})])}"
      ]
     },
     "execution_count": 16,
     "metadata": {},
     "output_type": "execute_result"
    }
   ],
   "source": [
    "store"
   ]
  },
  {
   "cell_type": "code",
   "execution_count": 17,
   "metadata": {},
   "outputs": [
    {
     "data": {
      "text/plain": [
       "\"Hi John, it's nice to meet you!  \\n\\nIs there anything I can help you with today? 😊\\n\""
      ]
     },
     "execution_count": 17,
     "metadata": {},
     "output_type": "execute_result"
    }
   ],
   "source": [
    "response=with_message_history.invoke(\n",
    "    [HumanMessage(content=\"Hey My name is John\")],\n",
    "    config=config1\n",
    ")\n",
    "response.content"
   ]
  },
  {
   "cell_type": "code",
   "execution_count": 18,
   "metadata": {},
   "outputs": [
    {
     "data": {
      "text/plain": [
       "{'chat1': InMemoryChatMessageHistory(messages=[HumanMessage(content='Hi , My name is VaibhaV and I am a Chief AI Engineer', additional_kwargs={}, response_metadata={}), AIMessage(content=\"Hello Vaibhav, it's nice to meet you! \\n\\nBeing a Chief AI Engineer is a fascinating role. What kind of projects are you working on these days? I'm always eager to learn more about the cutting edge of AI.\\n\", additional_kwargs={}, response_metadata={'token_usage': {'completion_tokens': 54, 'prompt_tokens': 25, 'total_tokens': 79, 'completion_time': 0.098181818, 'prompt_time': 0.001401509, 'queue_time': 0.255242182, 'total_time': 0.099583327}, 'model_name': 'Gemma2-9b-It', 'system_fingerprint': 'fp_10c08bf97d', 'service_tier': 'on_demand', 'finish_reason': 'stop', 'logprobs': None}, id='run--b613b90b-db54-48d2-a7ea-e4439f068319-0', usage_metadata={'input_tokens': 25, 'output_tokens': 54, 'total_tokens': 79}), HumanMessage(content=\"What's my name?\", additional_kwargs={}, response_metadata={}), AIMessage(content='Your name is Vaibhav, as you introduced yourself at the beginning of our conversation.  😊  \\n\\nIs there anything else I can help you with?\\n', additional_kwargs={}, response_metadata={'token_usage': {'completion_tokens': 35, 'prompt_tokens': 93, 'total_tokens': 128, 'completion_time': 0.063636364, 'prompt_time': 0.002600979, 'queue_time': 0.250798285, 'total_time': 0.066237343}, 'model_name': 'Gemma2-9b-It', 'system_fingerprint': 'fp_10c08bf97d', 'service_tier': 'on_demand', 'finish_reason': 'stop', 'logprobs': None}, id='run--60587a3c-ee7c-4716-a9a3-47480e27b299-0', usage_metadata={'input_tokens': 93, 'output_tokens': 35, 'total_tokens': 128})]),\n",
       " 'chat2': InMemoryChatMessageHistory(messages=[HumanMessage(content='Whats my name', additional_kwargs={}, response_metadata={}), AIMessage(content=\"As an AI, I have no memory of past conversations and do not know your name. If you'd like to tell me, I'm happy to learn it! 😊\\n\", additional_kwargs={}, response_metadata={'token_usage': {'completion_tokens': 39, 'prompt_tokens': 12, 'total_tokens': 51, 'completion_time': 0.070909091, 'prompt_time': 0.001176589, 'queue_time': 0.255580844, 'total_time': 0.07208568}, 'model_name': 'Gemma2-9b-It', 'system_fingerprint': 'fp_10c08bf97d', 'service_tier': 'on_demand', 'finish_reason': 'stop', 'logprobs': None}, id='run--b4c8db36-1b20-4df2-9325-564dc55c5155-0', usage_metadata={'input_tokens': 12, 'output_tokens': 39, 'total_tokens': 51}), HumanMessage(content='Hey My name is John', additional_kwargs={}, response_metadata={}), AIMessage(content=\"Hi John, it's nice to meet you!  \\n\\nIs there anything I can help you with today? 😊\\n\", additional_kwargs={}, response_metadata={'token_usage': {'completion_tokens': 27, 'prompt_tokens': 64, 'total_tokens': 91, 'completion_time': 0.049090909, 'prompt_time': 0.002268271, 'queue_time': 0.258405429, 'total_time': 0.05135918}, 'model_name': 'Gemma2-9b-It', 'system_fingerprint': 'fp_10c08bf97d', 'service_tier': 'on_demand', 'finish_reason': 'stop', 'logprobs': None}, id='run--b06e29cc-d81b-4b35-886c-f6cc39fbb1d9-0', usage_metadata={'input_tokens': 64, 'output_tokens': 27, 'total_tokens': 91})])}"
      ]
     },
     "execution_count": 18,
     "metadata": {},
     "output_type": "execute_result"
    }
   ],
   "source": [
    "store"
   ]
  },
  {
   "cell_type": "code",
   "execution_count": 19,
   "metadata": {},
   "outputs": [
    {
     "data": {
      "text/plain": [
       "'Your name is John.  I remember! 😄 \\n\\nWhat can I do for you, John?\\n'"
      ]
     },
     "execution_count": 19,
     "metadata": {},
     "output_type": "execute_result"
    }
   ],
   "source": [
    "response=with_message_history.invoke(\n",
    "    [HumanMessage(content=\"Whats my name\")],\n",
    "    config=config1\n",
    ")\n",
    "response.content"
   ]
  },
  {
   "cell_type": "markdown",
   "metadata": {},
   "source": [
    "### Prompt templates\n",
    "Prompt Templates help to turn raw user information into a format that the LLM can work with. In this case, the raw user input is just a message, which we are passing to the LLM. Let's now make that a bit more complicated. First, let's add in a system message with some custom instructions (but still taking messages as input). Next, we'll add in more input besides just the messages."
   ]
  },
  {
   "cell_type": "code",
   "execution_count": 20,
   "metadata": {},
   "outputs": [],
   "source": [
    "from langchain_core.prompts import ChatPromptTemplate,MessagesPlaceholder\n",
    "prompt=ChatPromptTemplate.from_messages(\n",
    "    [\n",
    "        (\"system\",\"You are a helpful assistant.Amnswer all the question to the nest of your ability\"),\n",
    "        MessagesPlaceholder(variable_name=\"messages\")\n",
    "    ]\n",
    ")\n",
    "\n",
    "chain=prompt|model"
   ]
  },
  {
   "cell_type": "code",
   "execution_count": 21,
   "metadata": {},
   "outputs": [
    {
     "data": {
      "text/plain": [
       "AIMessage(content=\"Hi Vaibhav! 👋  \\n\\nIt's nice to meet you. I'm happy to help with any questions you have. Just ask away! 😊  \\n\\nWhat can I do for you today? \\n\\n\", additional_kwargs={}, response_metadata={'token_usage': {'completion_tokens': 48, 'prompt_tokens': 34, 'total_tokens': 82, 'completion_time': 0.087272727, 'prompt_time': 0.00147512, 'queue_time': 0.254108141, 'total_time': 0.088747847}, 'model_name': 'Gemma2-9b-It', 'system_fingerprint': 'fp_10c08bf97d', 'service_tier': 'on_demand', 'finish_reason': 'stop', 'logprobs': None}, id='run--c28317a4-53b4-49a3-b5a1-2f57563123f2-0', usage_metadata={'input_tokens': 34, 'output_tokens': 48, 'total_tokens': 82})"
      ]
     },
     "execution_count": 21,
     "metadata": {},
     "output_type": "execute_result"
    }
   ],
   "source": [
    "chain.invoke({\"messages\":[HumanMessage(content=\"Hi My name is VaibhaV\")]})"
   ]
  },
  {
   "cell_type": "code",
   "execution_count": 22,
   "metadata": {},
   "outputs": [],
   "source": [
    "with_message_history=RunnableWithMessageHistory(chain,get_session_history)"
   ]
  },
  {
   "cell_type": "code",
   "execution_count": 23,
   "metadata": {},
   "outputs": [
    {
     "data": {
      "text/plain": [
       "AIMessage(content=\"Hi Vaibhav Arde! It's nice to meet you. 😄 \\n\\nI'm happy to help with any questions you have. Just ask away!  What can I do for you today?  \\n\\n\", additional_kwargs={}, response_metadata={'token_usage': {'completion_tokens': 48, 'prompt_tokens': 36, 'total_tokens': 84, 'completion_time': 0.087272727, 'prompt_time': 0.001495241, 'queue_time': 0.252442369, 'total_time': 0.088767968}, 'model_name': 'Gemma2-9b-It', 'system_fingerprint': 'fp_10c08bf97d', 'service_tier': 'on_demand', 'finish_reason': 'stop', 'logprobs': None}, id='run--e5ec3880-55ec-44a9-a3d9-34873bd97d6f-0', usage_metadata={'input_tokens': 36, 'output_tokens': 48, 'total_tokens': 84})"
      ]
     },
     "execution_count": 23,
     "metadata": {},
     "output_type": "execute_result"
    }
   ],
   "source": [
    "config = {\"configurable\": {\"session_id\": \"chat3\"}}\n",
    "response=with_message_history.invoke(\n",
    "    [HumanMessage(content=\"Hi My name is VaibhaV Arde\")],\n",
    "    config=config\n",
    ")\n",
    "\n",
    "response"
   ]
  },
  {
   "cell_type": "code",
   "execution_count": 24,
   "metadata": {},
   "outputs": [
    {
     "data": {
      "text/plain": [
       "{'chat1': InMemoryChatMessageHistory(messages=[HumanMessage(content='Hi , My name is VaibhaV and I am a Chief AI Engineer', additional_kwargs={}, response_metadata={}), AIMessage(content=\"Hello Vaibhav, it's nice to meet you! \\n\\nBeing a Chief AI Engineer is a fascinating role. What kind of projects are you working on these days? I'm always eager to learn more about the cutting edge of AI.\\n\", additional_kwargs={}, response_metadata={'token_usage': {'completion_tokens': 54, 'prompt_tokens': 25, 'total_tokens': 79, 'completion_time': 0.098181818, 'prompt_time': 0.001401509, 'queue_time': 0.255242182, 'total_time': 0.099583327}, 'model_name': 'Gemma2-9b-It', 'system_fingerprint': 'fp_10c08bf97d', 'service_tier': 'on_demand', 'finish_reason': 'stop', 'logprobs': None}, id='run--b613b90b-db54-48d2-a7ea-e4439f068319-0', usage_metadata={'input_tokens': 25, 'output_tokens': 54, 'total_tokens': 79}), HumanMessage(content=\"What's my name?\", additional_kwargs={}, response_metadata={}), AIMessage(content='Your name is Vaibhav, as you introduced yourself at the beginning of our conversation.  😊  \\n\\nIs there anything else I can help you with?\\n', additional_kwargs={}, response_metadata={'token_usage': {'completion_tokens': 35, 'prompt_tokens': 93, 'total_tokens': 128, 'completion_time': 0.063636364, 'prompt_time': 0.002600979, 'queue_time': 0.250798285, 'total_time': 0.066237343}, 'model_name': 'Gemma2-9b-It', 'system_fingerprint': 'fp_10c08bf97d', 'service_tier': 'on_demand', 'finish_reason': 'stop', 'logprobs': None}, id='run--60587a3c-ee7c-4716-a9a3-47480e27b299-0', usage_metadata={'input_tokens': 93, 'output_tokens': 35, 'total_tokens': 128})]),\n",
       " 'chat2': InMemoryChatMessageHistory(messages=[HumanMessage(content='Whats my name', additional_kwargs={}, response_metadata={}), AIMessage(content=\"As an AI, I have no memory of past conversations and do not know your name. If you'd like to tell me, I'm happy to learn it! 😊\\n\", additional_kwargs={}, response_metadata={'token_usage': {'completion_tokens': 39, 'prompt_tokens': 12, 'total_tokens': 51, 'completion_time': 0.070909091, 'prompt_time': 0.001176589, 'queue_time': 0.255580844, 'total_time': 0.07208568}, 'model_name': 'Gemma2-9b-It', 'system_fingerprint': 'fp_10c08bf97d', 'service_tier': 'on_demand', 'finish_reason': 'stop', 'logprobs': None}, id='run--b4c8db36-1b20-4df2-9325-564dc55c5155-0', usage_metadata={'input_tokens': 12, 'output_tokens': 39, 'total_tokens': 51}), HumanMessage(content='Hey My name is John', additional_kwargs={}, response_metadata={}), AIMessage(content=\"Hi John, it's nice to meet you!  \\n\\nIs there anything I can help you with today? 😊\\n\", additional_kwargs={}, response_metadata={'token_usage': {'completion_tokens': 27, 'prompt_tokens': 64, 'total_tokens': 91, 'completion_time': 0.049090909, 'prompt_time': 0.002268271, 'queue_time': 0.258405429, 'total_time': 0.05135918}, 'model_name': 'Gemma2-9b-It', 'system_fingerprint': 'fp_10c08bf97d', 'service_tier': 'on_demand', 'finish_reason': 'stop', 'logprobs': None}, id='run--b06e29cc-d81b-4b35-886c-f6cc39fbb1d9-0', usage_metadata={'input_tokens': 64, 'output_tokens': 27, 'total_tokens': 91}), HumanMessage(content='Whats my name', additional_kwargs={}, response_metadata={}), AIMessage(content='Your name is John.  I remember! 😄 \\n\\nWhat can I do for you, John?\\n', additional_kwargs={}, response_metadata={'token_usage': {'completion_tokens': 24, 'prompt_tokens': 102, 'total_tokens': 126, 'completion_time': 0.043636364, 'prompt_time': 0.002811841, 'queue_time': 0.253709589, 'total_time': 0.046448205}, 'model_name': 'Gemma2-9b-It', 'system_fingerprint': 'fp_10c08bf97d', 'service_tier': 'on_demand', 'finish_reason': 'stop', 'logprobs': None}, id='run--a91f1341-c3e4-49a1-8916-790d7222306a-0', usage_metadata={'input_tokens': 102, 'output_tokens': 24, 'total_tokens': 126})]),\n",
       " 'chat3': InMemoryChatMessageHistory(messages=[HumanMessage(content='Hi My name is VaibhaV Arde', additional_kwargs={}, response_metadata={}), AIMessage(content=\"Hi Vaibhav Arde! It's nice to meet you. 😄 \\n\\nI'm happy to help with any questions you have. Just ask away!  What can I do for you today?  \\n\\n\", additional_kwargs={}, response_metadata={'token_usage': {'completion_tokens': 48, 'prompt_tokens': 36, 'total_tokens': 84, 'completion_time': 0.087272727, 'prompt_time': 0.001495241, 'queue_time': 0.252442369, 'total_time': 0.088767968}, 'model_name': 'Gemma2-9b-It', 'system_fingerprint': 'fp_10c08bf97d', 'service_tier': 'on_demand', 'finish_reason': 'stop', 'logprobs': None}, id='run--e5ec3880-55ec-44a9-a3d9-34873bd97d6f-0', usage_metadata={'input_tokens': 36, 'output_tokens': 48, 'total_tokens': 84})])}"
      ]
     },
     "execution_count": 24,
     "metadata": {},
     "output_type": "execute_result"
    }
   ],
   "source": [
    "store"
   ]
  },
  {
   "cell_type": "code",
   "execution_count": 25,
   "metadata": {},
   "outputs": [
    {
     "data": {
      "text/plain": [
       "'Your name is Vaibhav Arde.  \\n\\nI remember that you told me! 😉\\n'"
      ]
     },
     "execution_count": 25,
     "metadata": {},
     "output_type": "execute_result"
    }
   ],
   "source": [
    "response = with_message_history.invoke(\n",
    "    [HumanMessage(content=\"What's my name?\")],\n",
    "    config=config,\n",
    ")\n",
    "\n",
    "response.content"
   ]
  },
  {
   "cell_type": "code",
   "execution_count": 26,
   "metadata": {},
   "outputs": [],
   "source": [
    "## Add more complexity\n",
    "\n",
    "prompt = ChatPromptTemplate.from_messages(\n",
    "    [\n",
    "        (\n",
    "            \"system\",\n",
    "            \"You are a helpful assistant. Answer all questions to the best of your ability in {language}.\",\n",
    "        ),\n",
    "        MessagesPlaceholder(variable_name=\"messages\"),\n",
    "    ]\n",
    ")\n",
    "\n",
    "chain = prompt | model"
   ]
  },
  {
   "cell_type": "code",
   "execution_count": 28,
   "metadata": {},
   "outputs": [
    {
     "data": {
      "text/plain": [
       "'नमस्ते Vaibhav! \\n\\nमुझे बहुत खुशी है कि आप मुझसे बात करना चाहते हैं। मैं आपकी मदद करने के लिए तैयार हूँ। \\n\\nआप मुझसे क्या जानना चाहते हैं? \\n\\n'"
      ]
     },
     "execution_count": 28,
     "metadata": {},
     "output_type": "execute_result"
    }
   ],
   "source": [
    "response=chain.invoke({\"messages\":[HumanMessage(content=\"Hi My name is Vaibhav\")],\"language\":\"Hindi\"})\n",
    "response.content"
   ]
  },
  {
   "cell_type": "markdown",
   "metadata": {},
   "source": [
    "Let's now wrap this more complicated chain in a Message History class. This time, because there are multiple keys in the input, we need to specify the correct key to use to save the chat history."
   ]
  },
  {
   "cell_type": "code",
   "execution_count": 29,
   "metadata": {},
   "outputs": [],
   "source": [
    "with_message_history=RunnableWithMessageHistory(\n",
    "    chain,\n",
    "    get_session_history,\n",
    "    input_messages_key=\"messages\"\n",
    ")"
   ]
  },
  {
   "cell_type": "code",
   "execution_count": 30,
   "metadata": {},
   "outputs": [
    {
     "data": {
      "text/plain": [
       "'नमस्ते मीरा, \\n\\nमैं आपकी मदद करने के लिए यहाँ हूँ। आपसे क्या पूछना चाहोगी?  😊\\n\\n'"
      ]
     },
     "execution_count": 30,
     "metadata": {},
     "output_type": "execute_result"
    }
   ],
   "source": [
    "config = {\"configurable\": {\"session_id\": \"chat4\"}}\n",
    "repsonse=with_message_history.invoke(\n",
    "    {'messages': [HumanMessage(content=\"Hi,I am Meera\")],\"language\":\"Hindi\"},\n",
    "    config=config\n",
    ")\n",
    "repsonse.content"
   ]
  },
  {
   "cell_type": "code",
   "execution_count": 31,
   "metadata": {},
   "outputs": [],
   "source": [
    "response = with_message_history.invoke(\n",
    "    {\"messages\": [HumanMessage(content=\"whats my name?\")], \"language\": \"Hindi\"},\n",
    "    config=config,\n",
    ")"
   ]
  },
  {
   "cell_type": "code",
   "execution_count": 32,
   "metadata": {},
   "outputs": [
    {
     "data": {
      "text/plain": [
       "'आपका नाम मीरा है।  😊 \\n\\n\\n'"
      ]
     },
     "execution_count": 32,
     "metadata": {},
     "output_type": "execute_result"
    }
   ],
   "source": [
    "response.content"
   ]
  },
  {
   "cell_type": "code",
   "execution_count": 33,
   "metadata": {},
   "outputs": [
    {
     "data": {
      "text/plain": [
       "{'chat1': InMemoryChatMessageHistory(messages=[HumanMessage(content='Hi , My name is VaibhaV and I am a Chief AI Engineer', additional_kwargs={}, response_metadata={}), AIMessage(content=\"Hello Vaibhav, it's nice to meet you! \\n\\nBeing a Chief AI Engineer is a fascinating role. What kind of projects are you working on these days? I'm always eager to learn more about the cutting edge of AI.\\n\", additional_kwargs={}, response_metadata={'token_usage': {'completion_tokens': 54, 'prompt_tokens': 25, 'total_tokens': 79, 'completion_time': 0.098181818, 'prompt_time': 0.001401509, 'queue_time': 0.255242182, 'total_time': 0.099583327}, 'model_name': 'Gemma2-9b-It', 'system_fingerprint': 'fp_10c08bf97d', 'service_tier': 'on_demand', 'finish_reason': 'stop', 'logprobs': None}, id='run--b613b90b-db54-48d2-a7ea-e4439f068319-0', usage_metadata={'input_tokens': 25, 'output_tokens': 54, 'total_tokens': 79}), HumanMessage(content=\"What's my name?\", additional_kwargs={}, response_metadata={}), AIMessage(content='Your name is Vaibhav, as you introduced yourself at the beginning of our conversation.  😊  \\n\\nIs there anything else I can help you with?\\n', additional_kwargs={}, response_metadata={'token_usage': {'completion_tokens': 35, 'prompt_tokens': 93, 'total_tokens': 128, 'completion_time': 0.063636364, 'prompt_time': 0.002600979, 'queue_time': 0.250798285, 'total_time': 0.066237343}, 'model_name': 'Gemma2-9b-It', 'system_fingerprint': 'fp_10c08bf97d', 'service_tier': 'on_demand', 'finish_reason': 'stop', 'logprobs': None}, id='run--60587a3c-ee7c-4716-a9a3-47480e27b299-0', usage_metadata={'input_tokens': 93, 'output_tokens': 35, 'total_tokens': 128})]),\n",
       " 'chat2': InMemoryChatMessageHistory(messages=[HumanMessage(content='Whats my name', additional_kwargs={}, response_metadata={}), AIMessage(content=\"As an AI, I have no memory of past conversations and do not know your name. If you'd like to tell me, I'm happy to learn it! 😊\\n\", additional_kwargs={}, response_metadata={'token_usage': {'completion_tokens': 39, 'prompt_tokens': 12, 'total_tokens': 51, 'completion_time': 0.070909091, 'prompt_time': 0.001176589, 'queue_time': 0.255580844, 'total_time': 0.07208568}, 'model_name': 'Gemma2-9b-It', 'system_fingerprint': 'fp_10c08bf97d', 'service_tier': 'on_demand', 'finish_reason': 'stop', 'logprobs': None}, id='run--b4c8db36-1b20-4df2-9325-564dc55c5155-0', usage_metadata={'input_tokens': 12, 'output_tokens': 39, 'total_tokens': 51}), HumanMessage(content='Hey My name is John', additional_kwargs={}, response_metadata={}), AIMessage(content=\"Hi John, it's nice to meet you!  \\n\\nIs there anything I can help you with today? 😊\\n\", additional_kwargs={}, response_metadata={'token_usage': {'completion_tokens': 27, 'prompt_tokens': 64, 'total_tokens': 91, 'completion_time': 0.049090909, 'prompt_time': 0.002268271, 'queue_time': 0.258405429, 'total_time': 0.05135918}, 'model_name': 'Gemma2-9b-It', 'system_fingerprint': 'fp_10c08bf97d', 'service_tier': 'on_demand', 'finish_reason': 'stop', 'logprobs': None}, id='run--b06e29cc-d81b-4b35-886c-f6cc39fbb1d9-0', usage_metadata={'input_tokens': 64, 'output_tokens': 27, 'total_tokens': 91}), HumanMessage(content='Whats my name', additional_kwargs={}, response_metadata={}), AIMessage(content='Your name is John.  I remember! 😄 \\n\\nWhat can I do for you, John?\\n', additional_kwargs={}, response_metadata={'token_usage': {'completion_tokens': 24, 'prompt_tokens': 102, 'total_tokens': 126, 'completion_time': 0.043636364, 'prompt_time': 0.002811841, 'queue_time': 0.253709589, 'total_time': 0.046448205}, 'model_name': 'Gemma2-9b-It', 'system_fingerprint': 'fp_10c08bf97d', 'service_tier': 'on_demand', 'finish_reason': 'stop', 'logprobs': None}, id='run--a91f1341-c3e4-49a1-8916-790d7222306a-0', usage_metadata={'input_tokens': 102, 'output_tokens': 24, 'total_tokens': 126})]),\n",
       " 'chat3': InMemoryChatMessageHistory(messages=[HumanMessage(content='Hi My name is VaibhaV Arde', additional_kwargs={}, response_metadata={}), AIMessage(content=\"Hi Vaibhav Arde! It's nice to meet you. 😄 \\n\\nI'm happy to help with any questions you have. Just ask away!  What can I do for you today?  \\n\\n\", additional_kwargs={}, response_metadata={'token_usage': {'completion_tokens': 48, 'prompt_tokens': 36, 'total_tokens': 84, 'completion_time': 0.087272727, 'prompt_time': 0.001495241, 'queue_time': 0.252442369, 'total_time': 0.088767968}, 'model_name': 'Gemma2-9b-It', 'system_fingerprint': 'fp_10c08bf97d', 'service_tier': 'on_demand', 'finish_reason': 'stop', 'logprobs': None}, id='run--e5ec3880-55ec-44a9-a3d9-34873bd97d6f-0', usage_metadata={'input_tokens': 36, 'output_tokens': 48, 'total_tokens': 84}), HumanMessage(content=\"What's my name?\", additional_kwargs={}, response_metadata={}), AIMessage(content='Your name is Vaibhav Arde.  \\n\\nI remember that you told me! 😉\\n', additional_kwargs={}, response_metadata={'token_usage': {'completion_tokens': 22, 'prompt_tokens': 97, 'total_tokens': 119, 'completion_time': 0.04, 'prompt_time': 0.002732412, 'queue_time': 0.251528708, 'total_time': 0.042732412}, 'model_name': 'Gemma2-9b-It', 'system_fingerprint': 'fp_10c08bf97d', 'service_tier': 'on_demand', 'finish_reason': 'stop', 'logprobs': None}, id='run--7969d8a6-68b7-4f48-8dae-e299841762bf-0', usage_metadata={'input_tokens': 97, 'output_tokens': 22, 'total_tokens': 119})]),\n",
       " 'chat4': InMemoryChatMessageHistory(messages=[HumanMessage(content='Hi,I am Meera', additional_kwargs={}, response_metadata={}), AIMessage(content='नमस्ते मीरा, \\n\\nमैं आपकी मदद करने के लिए यहाँ हूँ। आपसे क्या पूछना चाहोगी?  😊\\n\\n', additional_kwargs={}, response_metadata={'token_usage': {'completion_tokens': 38, 'prompt_tokens': 33, 'total_tokens': 71, 'completion_time': 0.069090909, 'prompt_time': 0.00147742, 'queue_time': 0.25281388, 'total_time': 0.070568329}, 'model_name': 'Gemma2-9b-It', 'system_fingerprint': 'fp_10c08bf97d', 'service_tier': 'on_demand', 'finish_reason': 'stop', 'logprobs': None}, id='run--2d746cd6-273b-47f4-9ad7-5ff112a50633-0', usage_metadata={'input_tokens': 33, 'output_tokens': 38, 'total_tokens': 71}), HumanMessage(content='whats my name?', additional_kwargs={}, response_metadata={}), AIMessage(content='आपका नाम मीरा है।  😊 \\n\\n\\n', additional_kwargs={}, response_metadata={'token_usage': {'completion_tokens': 14, 'prompt_tokens': 82, 'total_tokens': 96, 'completion_time': 0.025454545, 'prompt_time': 0.00257521, 'queue_time': 0.252917784, 'total_time': 0.028029755}, 'model_name': 'Gemma2-9b-It', 'system_fingerprint': 'fp_10c08bf97d', 'service_tier': 'on_demand', 'finish_reason': 'stop', 'logprobs': None}, id='run--cb69129b-b846-423e-a9ea-a2c926194ed4-0', usage_metadata={'input_tokens': 82, 'output_tokens': 14, 'total_tokens': 96})])}"
      ]
     },
     "execution_count": 33,
     "metadata": {},
     "output_type": "execute_result"
    }
   ],
   "source": [
    "store"
   ]
  },
  {
   "cell_type": "code",
   "execution_count": 35,
   "metadata": {},
   "outputs": [
    {
     "data": {
      "text/plain": [
       "'आपला नाव **Vaibhav** आहे. \\n\\nतुम्ही स्वतःच मला सांगितले होते.  😊  \\n'"
      ]
     },
     "execution_count": 35,
     "metadata": {},
     "output_type": "execute_result"
    }
   ],
   "source": [
    "config = {\"configurable\": {\"session_id\": \"chat1\"}}\n",
    "response = with_message_history.invoke(\n",
    "    {\"messages\": [HumanMessage(content=\"Waht is my name?\")], \"language\":\"Marathi\"},\n",
    "    config=config,\n",
    ")\n",
    "\n",
    "response.content"
   ]
  },
  {
   "cell_type": "markdown",
   "metadata": {},
   "source": [
    "### Managing the Conversation History\n",
    "One important concept to understand when building chatbots is how to manage conversation history. If left unmanaged, the list of messages will grow unbounded and potentially overflow the context window of the LLM. Therefore, it is important to add a step that limits the size of the messages you are passing in.\n",
    "'trim_messages' helper to reduce how many messages we're sending to the model. The trimmer allows us to specify how many tokens we want to keep, along with other parameters like if we want to always keep the system message and whether to allow partial messages"
   ]
  },
  {
   "cell_type": "code",
   "execution_count": 36,
   "metadata": {},
   "outputs": [
    {
     "name": "stderr",
     "output_type": "stream",
     "text": [
      "/Users/vaibhavarde/Desktop/AgentKrish/AgentNotes/.venv/lib/python3.11/site-packages/tqdm/auto.py:21: TqdmWarning: IProgress not found. Please update jupyter and ipywidgets. See https://ipywidgets.readthedocs.io/en/stable/user_install.html\n",
      "  from .autonotebook import tqdm as notebook_tqdm\n"
     ]
    },
    {
     "data": {
      "text/plain": [
       "[SystemMessage(content=\"you're a good assistant\", additional_kwargs={}, response_metadata={}),\n",
       " HumanMessage(content='I like vanilla ice cream', additional_kwargs={}, response_metadata={}),\n",
       " AIMessage(content='nice', additional_kwargs={}, response_metadata={}),\n",
       " HumanMessage(content='whats 2 + 2', additional_kwargs={}, response_metadata={}),\n",
       " AIMessage(content='4', additional_kwargs={}, response_metadata={}),\n",
       " HumanMessage(content='thanks', additional_kwargs={}, response_metadata={}),\n",
       " AIMessage(content='no problem!', additional_kwargs={}, response_metadata={}),\n",
       " HumanMessage(content='having fun?', additional_kwargs={}, response_metadata={}),\n",
       " AIMessage(content='yes!', additional_kwargs={}, response_metadata={})]"
      ]
     },
     "execution_count": 36,
     "metadata": {},
     "output_type": "execute_result"
    }
   ],
   "source": [
    "from langchain_core.messages import SystemMessage,trim_messages\n",
    "trimmer=trim_messages(\n",
    "    max_tokens=45,\n",
    "    strategy=\"last\",\n",
    "    token_counter=model,\n",
    "    include_system=True,\n",
    "    allow_partial=False,\n",
    "    start_on=\"human\"\n",
    ")\n",
    "messages = [\n",
    "    SystemMessage(content=\"you're a good assistant\"),\n",
    "    HumanMessage(content=\"hi! I'm bob\"),\n",
    "    AIMessage(content=\"hi!\"),\n",
    "    HumanMessage(content=\"I like vanilla ice cream\"),\n",
    "    AIMessage(content=\"nice\"),\n",
    "    HumanMessage(content=\"whats 2 + 2\"),\n",
    "    AIMessage(content=\"4\"),\n",
    "    HumanMessage(content=\"thanks\"),\n",
    "    AIMessage(content=\"no problem!\"),\n",
    "    HumanMessage(content=\"having fun?\"),\n",
    "    AIMessage(content=\"yes!\"),\n",
    "]\n",
    "trimmer.invoke(messages)"
   ]
  },
  {
   "cell_type": "code",
   "execution_count": 37,
   "metadata": {},
   "outputs": [
    {
     "data": {
      "text/plain": [
       "\"As an AI, I have no memory of past conversations and don't know your preferences.  \\n\\nWhat's your favorite ice cream flavor? 😊🍦\\n\""
      ]
     },
     "execution_count": 37,
     "metadata": {},
     "output_type": "execute_result"
    }
   ],
   "source": [
    "from operator import itemgetter\n",
    "\n",
    "from langchain_core.runnables import RunnablePassthrough\n",
    "\n",
    "chain=(\n",
    "    RunnablePassthrough.assign(messages=itemgetter(\"messages\")|trimmer)\n",
    "    | prompt\n",
    "    | model\n",
    "    \n",
    ")\n",
    "\n",
    "response=chain.invoke(\n",
    "    {\n",
    "    \"messages\":messages + [HumanMessage(content=\"What ice cream do i like\")],\n",
    "    \"language\":\"English\"\n",
    "    }\n",
    ")\n",
    "response.content"
   ]
  },
  {
   "cell_type": "code",
   "execution_count": 38,
   "metadata": {},
   "outputs": [
    {
     "data": {
      "text/plain": [
       "'You asked \"what is 2 + 2\"  !  😊 \\n\\n\\n\\n\\n'"
      ]
     },
     "execution_count": 38,
     "metadata": {},
     "output_type": "execute_result"
    }
   ],
   "source": [
    "response = chain.invoke(\n",
    "    {\n",
    "        \"messages\": messages + [HumanMessage(content=\"what math problem did i ask\")],\n",
    "        \"language\": \"English\",\n",
    "    }\n",
    ")\n",
    "response.content"
   ]
  },
  {
   "cell_type": "code",
   "execution_count": 39,
   "metadata": {},
   "outputs": [],
   "source": [
    "## Lets wrap this in the MEssage History\n",
    "with_message_history = RunnableWithMessageHistory(\n",
    "    chain,\n",
    "    get_session_history,\n",
    "    input_messages_key=\"messages\",\n",
    ")\n",
    "config={\"configurable\":{\"session_id\":\"chat5\"}}"
   ]
  },
  {
   "cell_type": "code",
   "execution_count": 40,
   "metadata": {},
   "outputs": [
    {
     "data": {
      "text/plain": [
       "\"As an AI, I don't have access to past conversations or any personal information about you, including your name.  \\n\\nIf you'd like to tell me your name, I'd be happy to use it! 😊  \\n\""
      ]
     },
     "execution_count": 40,
     "metadata": {},
     "output_type": "execute_result"
    }
   ],
   "source": [
    "response = with_message_history.invoke(\n",
    "    {\n",
    "        \"messages\": messages + [HumanMessage(content=\"whats my name?\")],\n",
    "        \"language\": \"English\",\n",
    "    },\n",
    "    config=config,\n",
    ")\n",
    "\n",
    "response.content"
   ]
  },
  {
   "cell_type": "code",
   "execution_count": 41,
   "metadata": {},
   "outputs": [
    {
     "data": {
      "text/plain": [
       "\"As a helpful assistant, I have no memory of past conversations. Therefore, I don't know what math problem you asked. \\n\\nIf you'd like to ask me a math problem now, I'd be happy to help! 😊  \\n\\n\""
      ]
     },
     "execution_count": 41,
     "metadata": {},
     "output_type": "execute_result"
    }
   ],
   "source": [
    "response = with_message_history.invoke(\n",
    "    {\n",
    "        \"messages\": [HumanMessage(content=\"what math problem did i ask?\")],\n",
    "        \"language\": \"English\",\n",
    "    },\n",
    "    config=config,\n",
    ")\n",
    "\n",
    "response.content"
   ]
  },
  {
   "cell_type": "code",
   "execution_count": null,
   "metadata": {},
   "outputs": [],
   "source": []
  }
 ],
 "metadata": {
  "kernelspec": {
   "display_name": "agentnotes",
   "language": "python",
   "name": "python3"
  },
  "language_info": {
   "codemirror_mode": {
    "name": "ipython",
    "version": 3
   },
   "file_extension": ".py",
   "mimetype": "text/x-python",
   "name": "python",
   "nbconvert_exporter": "python",
   "pygments_lexer": "ipython3",
   "version": "3.11.11"
  }
 },
 "nbformat": 4,
 "nbformat_minor": 2
}
