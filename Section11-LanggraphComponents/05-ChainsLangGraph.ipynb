{
 "cells": [
  {
   "cell_type": "markdown",
   "metadata": {},
   "source": [
    "### Chain Using LangGraph\n",
    "In this section we will see how we can build a simple chain using Langgraph that uses 4 important concepts\n",
    "\n",
    "- How to use chat messages as our graph state\n",
    "- How to use chat models in graph nodes\n",
    "- How to bind tools to our LLM in chat models\n",
    "- How to execute the tools call in our graph nodes "
   ]
  },
  {
   "cell_type": "code",
   "execution_count": 64,
   "metadata": {},
   "outputs": [],
   "source": [
    "from dotenv import load_dotenv\n",
    "load_dotenv()\n",
    "\n",
    "import os\n",
    "# os.environ[\"OPENAI_API_KEY\"]=os.getenv(\"OPENAI_API_KEY\")\n",
    "os.environ[\"GROQ_API_KEY\"]=os.getenv(\"GROQ_API_KEY\")\n"
   ]
  },
  {
   "cell_type": "markdown",
   "metadata": {},
   "source": [
    "#### How to use chat messages as our graph state\n",
    "##### Messages\n",
    "\n",
    "We can use messages which can be used to capture different roles within a conversation.\n",
    "LangChain has various message types including HumanMessage, AIMessage, SystemMessage and ToolMessage.\n",
    "These represent a message from the user, from chat model, for the chat model to instruct behavior, and from a tool call.\n",
    "\n",
    "Every message have these important components.\n",
    "\n",
    "- content - content of the message\n",
    "- name - Specify the name of author\n",
    "- response_metadata - optionally, a dict of metadata (e.g., often populated by model provider for AIMessages)\n",
    "\n"
   ]
  },
  {
   "cell_type": "code",
   "execution_count": 65,
   "metadata": {},
   "outputs": [
    {
     "name": "stdout",
     "output_type": "stream",
     "text": [
      "==================================\u001b[1m Ai Message \u001b[0m==================================\n",
      "Name: LLMModel\n",
      "\n",
      "Please tell me how can I help\n",
      "================================\u001b[1m Human Message \u001b[0m=================================\n",
      "Name: VaibhaV\n",
      "\n",
      "I want to learn coding\n",
      "==================================\u001b[1m Ai Message \u001b[0m==================================\n",
      "Name: LLMModel\n",
      "\n",
      "Which programming language you want to learn\n",
      "================================\u001b[1m Human Message \u001b[0m=================================\n",
      "Name: VaibhaV\n",
      "\n",
      "I want to learn python programming language\n"
     ]
    }
   ],
   "source": [
    "from langchain_core.messages import AIMessage,HumanMessage\n",
    "from pprint import pprint\n",
    "\n",
    "messages=[AIMessage(content=f\"Please tell me how can I help\",name=\"LLMModel\")]\n",
    "messages.append(HumanMessage(content=f\"I want to learn coding\",name=\"VaibhaV\"))\n",
    "messages.append(AIMessage(content=f\"Which programming language you want to learn\",name=\"LLMModel\"))\n",
    "messages.append(HumanMessage(content=f\"I want to learn python programming language\",name=\"VaibhaV\"))\n",
    "\n",
    "for message in messages:\n",
    "    message.pretty_print()\n",
    "    # print(message)\n",
    "\n"
   ]
  },
  {
   "cell_type": "markdown",
   "metadata": {},
   "source": [
    "### Chat Models\n",
    "\n",
    "We can use the sequence of message as input with the chatmodels using LLM's and OPENAI."
   ]
  },
  {
   "cell_type": "code",
   "execution_count": 66,
   "metadata": {},
   "outputs": [],
   "source": [
    "from langchain_groq import ChatGroq\n",
    "llm=ChatGroq(model=\"openai/gpt-oss-20b\")\n",
    "result=llm.invoke(messages)"
   ]
  },
  {
   "cell_type": "code",
   "execution_count": 67,
   "metadata": {},
   "outputs": [
    {
     "name": "stdout",
     "output_type": "stream",
     "text": [
      "==================================\u001b[1m Ai Message \u001b[0m==================================\n",
      "\n",
      "Great! Python is an excellent first language—readable, versatile, and widely used in everything from web development to data science, AI, automation, and even game development.  \n",
      "Below is a **step‑by‑step learning path** that balances theory, hands‑on practice, and real‑world projects. Feel free to skip ahead or linger on a topic that interests you most.\n",
      "\n",
      "---\n",
      "\n",
      "## 1️⃣ Why Python?\n",
      "\n",
      "| Feature | Why It Matters |\n",
      "|--------|---------------|\n",
      "| **Readable syntax** | “Code like English.” Easier to debug and maintain. |\n",
      "| **Large ecosystem** | `requests`, `numpy`, `pandas`, `flask`, `django`, `pygame`, etc. |\n",
      "| **Community support** | Thousands of tutorials, forums, and open‑source libraries. |\n",
      "| **Career demand** | Top 10 languages on Stack Overflow, LinkedIn, and job boards. |\n",
      "\n",
      "---\n",
      "\n",
      "## 2️⃣ Quick Setup\n",
      "\n",
      "| Platform | Recommended Tool |\n",
      "|---------|-----------------|\n",
      "| Windows | VS Code + Python extension + `venv` |\n",
      "| macOS / Linux | VS Code / PyCharm Community + `venv` |\n",
      "| Online | Replit, Google Colab, or Jupyter Notebook (free) |\n",
      "\n",
      "**Tip:** Keep a clean virtual environment per project (`python -m venv env` → `source env/bin/activate`).\n",
      "\n",
      "---\n",
      "\n",
      "## 3️⃣ Learning Roadmap\n",
      "\n",
      "| Week | Topics | Key Exercises | Resources |\n",
      "|------|-------|--------------|----------|\n",
      "| **1** | *Hello World* → variables, data types, basic I/O | Write a program that asks for your name and prints a greeting. | [Python Docs – Getting Started](https://docs.python.org/3/tutorial/index.html) |\n",
      "| **2** | Conditionals (`if`, `elif`, `else`) | Build a simple “guess the number” game. | [Automate the Boring Stuff – Chapter 2](https://automatetheboringstuff.com/) |\n",
      "| **3** | Loops (`for`, `while`) | Create a program that prints the multiplication table for a given number. | [Real Python – Loops](https://realpython.com/python-for-loop/) |\n",
      "| **4** | Lists & Tuples | Manipulate a list of your favorite movies: add, remove, sort. | [Corey Schafer – Python Tutorial](https://youtu.be/rfscVS0vtbw) |\n",
      "| **5** | Functions | Write a function `is_prime(n)` and test it. | [Python Docs – Functions](https://docs.python.org/3/tutorial/controlflow.html#defining-functions) |\n",
      "| **6** | Dictionaries & Sets | Build a simple phone book. | [Real Python – Dictionaries](https://realpython.com/python-dicts/) |\n",
      "| **7** | File I/O | Read a CSV file and print statistics. | [Pandas Basics](https://pandas.pydata.org/pandas-docs/stable/getting_started/intro_tutorials/intro_tutorial.html) |\n",
      "| **8** | Modules & Packages | Create a package `utils` with helper functions. | [Python Packaging User Guide](https://packaging.python.org/tutorials/packaging-projects/) |\n",
      "| **9** | Exception Handling | Make a calculator that handles divide‑by‑zero. | [Python Docs – Exceptions](https://docs.python.org/3/tutorial/errors.html) |\n",
      "| **10** | Project 1 – CLI Tool | Build a command‑line “todo list” using `argparse`. | [Python argparse Docs](https://docs.python.org/3/library/argparse.html) |\n",
      "| **11** | Introduction to OOP | Create a simple `BankAccount` class with deposits/withdrawals. | [Real Python – OOP](https://realpython.com/python3-object-oriented-programming/) |\n",
      "| **12** | Project 2 – Web Scraper | Scrape quotes from a website and save them to CSV. | [BeautifulSoup Tutorial](https://www.crummy.com/software/BeautifulSoup/bs4/doc/) |\n",
      "| **13** | Project 3 – Web App (optional) | Flask app that shows a random quote. | [Flask Mega‑Tutorial](https://blog.miguelgrinberg.com/post/the-flask-mega-tutorial-part-i-hello-world) |\n",
      "| **14** | Next Steps | Choose a path: Data Science, Automation, Web dev, Games, or DevOps. |  |\n",
      "\n",
      "> **Pro Tip:** After each exercise, write a short blog post or tweet summarizing what you learned. It reinforces memory and builds a portfolio.\n",
      "\n",
      "---\n",
      "\n",
      "## 4️⃣ Practice Platforms\n",
      "\n",
      "| Platform | Focus | Free? |\n",
      "|---------|------|-------|\n",
      "| **LeetCode** | Algorithmic problems | Yes |\n",
      "| **HackerRank** | Coding challenges | Yes |\n",
      "| **Exercism** | Mentored exercises | Yes |\n",
      "| **Codewars** | Kata (small challenges) | Yes |\n",
      "| **Project Euler** | Math + programming | Yes |\n",
      "\n",
      "---\n",
      "\n",
      "## 5️⃣ Build a Portfolio\n",
      "\n",
      "| Project | Why It Helps | Quick Idea |\n",
      "|--------|-------------|-----------|\n",
      "| **Calculator** | Demonstrates functions, error handling | Basic GUI with `tkinter` |\n",
      "| **Blog** | Showcases web dev & CMS | Static site with `mkdocs` |\n",
      "| **Game** | Shows loops, OOP, graphics | `pygame` “Space Invaders” |\n",
      "| **Data Visualizer** | Data science | Plot temperature trends with `matplotlib` |\n",
      "| **API Wrapper** | Networking | Wrapper for a public API (e.g., OpenWeather) |\n",
      "\n",
      "Upload your code to **GitHub**. Add a `README.md` explaining the project, tech stack, and how to run it.\n",
      "\n",
      "---\n",
      "\n",
      "## 6️⃣ Community & Mentorship\n",
      "\n",
      "- **Stack Overflow** – ask specific questions.\n",
      "- **Reddit**: r/learnpython, r/Python.\n",
      "- **Discord**: Python Discord (channels for help, projects).\n",
      "- **Meetups**: Local Python or coding meetups (often free).\n",
      "\n",
      "---\n",
      "\n",
      "## 7️⃣ Optional Deep Dives (after the roadmap)\n",
      "\n",
      "| Topic | Resources |\n",
      "|------|----------|\n",
      "| **Data Science** | `pandas`, `scikit-learn`, `tensorflow` |\n",
      "| **Web Development** | Django, FastAPI |\n",
      "| **Automation** | `pyautogui`, `selenium` |\n",
      "| **Game Development** | `pygame`, `arcade` |\n",
      "| **DevOps** | Docker, CI/CD with GitHub Actions |\n",
      "| **Security** | `cryptography`, `hashlib` |\n",
      "\n",
      "---\n",
      "\n",
      "### Final Checklist\n",
      "\n",
      "- [ ] Install VS Code + Python extension.\n",
      "- [ ] Create a GitHub repo for your projects.\n",
      "- [ ] Complete at least 3 of the suggested projects.\n",
      "- [ ] Join a community (Reddit or Discord).\n",
      "- [ ] Post a question on Stack Overflow when stuck.\n",
      "\n",
      "**Ready to dive in?** Let me know which week or topic you’d like to start with, and I can give you a detailed lesson plan, sample code, or debugging help!\n"
     ]
    }
   ],
   "source": [
    "result.pretty_print()"
   ]
  },
  {
   "cell_type": "code",
   "execution_count": 68,
   "metadata": {},
   "outputs": [
    {
     "data": {
      "text/plain": [
       "{'token_usage': {'completion_tokens': 1551,\n",
       "  'prompt_tokens': 113,\n",
       "  'total_tokens': 1664,\n",
       "  'completion_time': 1.2887424379999999,\n",
       "  'prompt_time': 0.007810598,\n",
       "  'queue_time': 0.045132569,\n",
       "  'total_time': 1.296553036},\n",
       " 'model_name': 'openai/gpt-oss-20b',\n",
       " 'system_fingerprint': 'fp_fd68d84dd3',\n",
       " 'service_tier': 'on_demand',\n",
       " 'finish_reason': 'stop',\n",
       " 'logprobs': None}"
      ]
     },
     "execution_count": 68,
     "metadata": {},
     "output_type": "execute_result"
    }
   ],
   "source": [
    "result.response_metadata"
   ]
  },
  {
   "cell_type": "markdown",
   "metadata": {},
   "source": [
    "### Tools\n",
    "Tools can be integrated with the LLM models to interact with external systems. External systems can be API's, third party tools.\n",
    "\n",
    "Whenever a query is asked the model can choose to call the tool and this query is based on the \n",
    "natural language input and this will return an output that matches the tool's schema"
   ]
  },
  {
   "cell_type": "code",
   "execution_count": 69,
   "metadata": {},
   "outputs": [],
   "source": [
    "def add(a:int,b:int)-> int:\n",
    "    \"\"\" Add a and b\n",
    "    Args:\n",
    "        a (int): first int\n",
    "        b (int): second int\n",
    "\n",
    "    Returns:\n",
    "        int\n",
    "    \"\"\"\n",
    "    return a+b"
   ]
  },
  {
   "cell_type": "code",
   "execution_count": 70,
   "metadata": {},
   "outputs": [
    {
     "data": {
      "text/plain": [
       "ChatGroq(client=<groq.resources.chat.completions.Completions object at 0x10eeb7850>, async_client=<groq.resources.chat.completions.AsyncCompletions object at 0x10eeaa710>, model_name='openai/gpt-oss-20b', model_kwargs={}, groq_api_key=SecretStr('**********'))"
      ]
     },
     "execution_count": 70,
     "metadata": {},
     "output_type": "execute_result"
    }
   ],
   "source": [
    "llm"
   ]
  },
  {
   "cell_type": "code",
   "execution_count": 71,
   "metadata": {},
   "outputs": [],
   "source": [
    "### Binding tool with llm\n",
    "\n",
    "llm_with_tools=llm.bind_tools([add])\n",
    "\n",
    "tool_call=llm_with_tools.invoke([HumanMessage(content=f\"What is 2 plus 2\",name=\"VaibhaV\")])"
   ]
  },
  {
   "cell_type": "code",
   "execution_count": 72,
   "metadata": {},
   "outputs": [
    {
     "data": {
      "text/plain": [
       "AIMessage(content='', additional_kwargs={'reasoning_content': 'We need to use the add function.', 'tool_calls': [{'id': 'fc_324af9b3-568c-4e5a-b5cb-043b71d1d778', 'function': {'arguments': '{\"a\":2,\"b\":2}', 'name': 'add'}, 'type': 'function'}]}, response_metadata={'token_usage': {'completion_tokens': 35, 'prompt_tokens': 148, 'total_tokens': 183, 'completion_time': 0.029103903, 'prompt_time': 0.00977244, 'queue_time': 0.043866947, 'total_time': 0.038876343}, 'model_name': 'openai/gpt-oss-20b', 'system_fingerprint': 'fp_fd68d84dd3', 'service_tier': 'on_demand', 'finish_reason': 'tool_calls', 'logprobs': None}, id='run--6177984e-b782-4bd6-9774-c0f10ea28ff4-0', tool_calls=[{'name': 'add', 'args': {'a': 2, 'b': 2}, 'id': 'fc_324af9b3-568c-4e5a-b5cb-043b71d1d778', 'type': 'tool_call'}], usage_metadata={'input_tokens': 148, 'output_tokens': 35, 'total_tokens': 183})"
      ]
     },
     "execution_count": 72,
     "metadata": {},
     "output_type": "execute_result"
    }
   ],
   "source": [
    "tool_call"
   ]
  },
  {
   "cell_type": "code",
   "execution_count": 73,
   "metadata": {},
   "outputs": [
    {
     "data": {
      "text/plain": [
       "[{'name': 'add',\n",
       "  'args': {'a': 2, 'b': 2},\n",
       "  'id': 'fc_324af9b3-568c-4e5a-b5cb-043b71d1d778',\n",
       "  'type': 'tool_call'}]"
      ]
     },
     "execution_count": 73,
     "metadata": {},
     "output_type": "execute_result"
    }
   ],
   "source": [
    "tool_call.tool_calls"
   ]
  },
  {
   "cell_type": "markdown",
   "metadata": {},
   "source": [
    "### Using messages as state"
   ]
  },
  {
   "cell_type": "code",
   "execution_count": 74,
   "metadata": {},
   "outputs": [],
   "source": [
    "from typing_extensions import TypedDict\n",
    "from langchain_core.messages import AnyMessage\n",
    "\n",
    "class State(TypedDict):\n",
    "    message:list[AnyMessage]"
   ]
  },
  {
   "cell_type": "markdown",
   "metadata": {},
   "source": [
    "#### Reducers\n",
    "Now, we have a minor problem!\n",
    "\n",
    "As we discussed, each node will return a new value for our state key messages.\n",
    "\n",
    "But, this new value will override the prior messages value.\n",
    "\n",
    "As our graph runs, we want to append messages to our messages state key.\n",
    "\n",
    "We can use reducer functions to address this.\n",
    "\n",
    "Reducers allow us to specify how state updates are performed.\n",
    "\n",
    "If no reducer function is specified, then it is assumed that updates to the key should override it as we saw before.\n",
    "\n",
    "But, to append messages, we can use the pre-built add_messages reducer.\n",
    "\n",
    "This ensures that any messages are appended to the existing list of messages.\n",
    "\n",
    "We simply need to annotate our messages key with the add_messages reducer function as metadata."
   ]
  },
  {
   "cell_type": "code",
   "execution_count": 75,
   "metadata": {},
   "outputs": [],
   "source": [
    "from langgraph.graph.message import add_messages\n",
    "from typing import Annotated\n",
    "class State(TypedDict):\n",
    "    messages:Annotated[list[AnyMessage],add_messages]"
   ]
  },
  {
   "cell_type": "markdown",
   "metadata": {},
   "source": [
    "### Reducers with add_messages"
   ]
  },
  {
   "cell_type": "code",
   "execution_count": 76,
   "metadata": {},
   "outputs": [
    {
     "data": {
      "text/plain": [
       "[AIMessage(content='Please tell me how can I help', additional_kwargs={}, response_metadata={}, name='LLMModel'),\n",
       " HumanMessage(content='I want to learn coding', additional_kwargs={}, response_metadata={}, name='VaibhaV')]"
      ]
     },
     "execution_count": 76,
     "metadata": {},
     "output_type": "execute_result"
    }
   ],
   "source": [
    "initial_messages=[AIMessage(content=f\"Please tell me how can I help\",name=\"LLMModel\")]\n",
    "initial_messages.append(HumanMessage(content=f\"I want to learn coding\",name=\"VaibhaV\"))\n",
    "initial_messages"
   ]
  },
  {
   "cell_type": "code",
   "execution_count": 77,
   "metadata": {},
   "outputs": [
    {
     "data": {
      "text/plain": [
       "AIMessage(content='Which programming language you want to learn', additional_kwargs={}, response_metadata={}, name='LLMModel')"
      ]
     },
     "execution_count": 77,
     "metadata": {},
     "output_type": "execute_result"
    }
   ],
   "source": [
    "ai_message=AIMessage(content=f\"Which programming language you want to learn\",name=\"LLMModel\")\n",
    "ai_message"
   ]
  },
  {
   "cell_type": "code",
   "execution_count": 78,
   "metadata": {},
   "outputs": [
    {
     "data": {
      "text/plain": [
       "[AIMessage(content='Please tell me how can I help', additional_kwargs={}, response_metadata={}, name='LLMModel', id='cbfaac27-98b4-40fe-aedf-54184b9be096'),\n",
       " HumanMessage(content='I want to learn coding', additional_kwargs={}, response_metadata={}, name='VaibhaV', id='bc79686b-d202-4358-883f-e36a5744f4b3'),\n",
       " AIMessage(content='Which programming language you want to learn', additional_kwargs={}, response_metadata={}, name='LLMModel', id='2177c41e-ca99-4d1e-8970-5502b4317ea8')]"
      ]
     },
     "execution_count": 78,
     "metadata": {},
     "output_type": "execute_result"
    }
   ],
   "source": [
    "### Reducers add_messages is to append instead of override\n",
    "add_messages(initial_messages,ai_message)"
   ]
  },
  {
   "cell_type": "code",
   "execution_count": 79,
   "metadata": {},
   "outputs": [],
   "source": [
    "## chatbot node functionality\n",
    "def llm_tool(state:State):\n",
    "    return {\"messages\":[llm_with_tools.invoke(state[\"messages\"])]}"
   ]
  },
  {
   "cell_type": "code",
   "execution_count": 80,
   "metadata": {},
   "outputs": [
    {
     "data": {
      "image/png": "[encoded data removed]",
      "text/plain": [
       "<IPython.core.display.Image object>"
      ]
     },
     "metadata": {},
     "output_type": "display_data"
    }
   ],
   "source": [
    "from IPython.display import Image, display\n",
    "from langgraph.graph import StateGraph, START, END\n",
    "builder=StateGraph(State)\n",
    "\n",
    "builder.add_node(\"llm_tool\",llm_tool)\n",
    "\n",
    "builder.add_edge(START,\"llm_tool\")\n",
    "builder.add_edge(\"llm_tool\",END)\n",
    "\n",
    "graph=builder.compile()\n",
    "\n",
    "display(Image(graph.get_graph().draw_mermaid_png()))"
   ]
  },
  {
   "cell_type": "code",
   "execution_count": 81,
   "metadata": {},
   "outputs": [
    {
     "name": "stdout",
     "output_type": "stream",
     "text": [
      "================================\u001b[1m Human Message \u001b[0m=================================\n",
      "\n",
      "What is 2 plus 2\n",
      "==================================\u001b[1m Ai Message \u001b[0m==================================\n",
      "Tool Calls:\n",
      "  add (fc_1cea2a0b-df30-4ed1-a978-398e04f4090c)\n",
      " Call ID: fc_1cea2a0b-df30-4ed1-a978-398e04f4090c\n",
      "  Args:\n",
      "    a: 2\n",
      "    b: 2\n"
     ]
    }
   ],
   "source": [
    "## invocation\n",
    "\n",
    "messages=graph.invoke({\"messages\":\"What is 2 plus 2\"})\n",
    "\n",
    "for message in messages[\"messages\"]:\n",
    "    message.pretty_print()"
   ]
  },
  {
   "cell_type": "code",
   "execution_count": 60,
   "metadata": {},
   "outputs": [],
   "source": [
    "tools=[add]"
   ]
  },
  {
   "cell_type": "code",
   "execution_count": 82,
   "metadata": {},
   "outputs": [],
   "source": [
    "from langgraph.prebuilt import ToolNode\n",
    "from langgraph.prebuilt import tools_condition\n",
    "\n",
    "\n",
    "builder=StateGraph(State)\n",
    "\n",
    "## Add nodes\n",
    "\n",
    "builder.add_node(\"llm_tool\",llm_tool)\n",
    "builder.add_node(\"tools\",ToolNode(tools))\n",
    "\n",
    "## Add Edge\n",
    "builder.add_edge(START,\"llm_tool\")\n",
    "builder.add_conditional_edges(\n",
    "    \"llm_tool\",\n",
    "    # If the latest message (result) from assistant is a tool call -> tools_condition routes to tools\n",
    "    # If the latest message (result) from assistant is a not a tool call -> tools_condition routes to END\n",
    "    tools_condition\n",
    ")\n",
    "builder.add_edge(\"tools\",END)\n",
    "\n",
    "\n",
    "graph_builder = builder.compile()\n",
    "\n"
   ]
  },
  {
   "cell_type": "code",
   "execution_count": 84,
   "metadata": {},
   "outputs": [
    {
     "data": {
      "image/png": "[encoded data removed]",
      "text/plain": [
       "<IPython.core.display.Image object>"
      ]
     },
     "metadata": {},
     "output_type": "display_data"
    }
   ],
   "source": [
    "display(Image(graph_builder.get_graph().draw_mermaid_png()))"
   ]
  },
  {
   "cell_type": "code",
   "execution_count": 86,
   "metadata": {},
   "outputs": [
    {
     "name": "stdout",
     "output_type": "stream",
     "text": [
      "================================\u001b[1m Human Message \u001b[0m=================================\n",
      "\n",
      "What is 2 plus 2\n",
      "==================================\u001b[1m Ai Message \u001b[0m==================================\n",
      "Tool Calls:\n",
      "  add (fc_f1125bc8-5935-44bc-8929-6e6460ca7f5e)\n",
      " Call ID: fc_f1125bc8-5935-44bc-8929-6e6460ca7f5e\n",
      "  Args:\n",
      "    a: 2\n",
      "    b: 2\n",
      "=================================\u001b[1m Tool Message \u001b[0m=================================\n",
      "Name: add\n",
      "\n",
      "4\n"
     ]
    }
   ],
   "source": [
    "## invocation\n",
    "\n",
    "messages=graph_builder.invoke({\"messages\":\"What is 2 plus 2\"})\n",
    "\n",
    "for message in messages[\"messages\"]:\n",
    "    message.pretty_print()"
   ]
  },
  {
   "cell_type": "code",
   "execution_count": 87,
   "metadata": {},
   "outputs": [
    {
     "name": "stdout",
     "output_type": "stream",
     "text": [
      "================================\u001b[1m Human Message \u001b[0m=================================\n",
      "\n",
      "What Machine Learning\n",
      "==================================\u001b[1m Ai Message \u001b[0m==================================\n",
      "\n",
      "**Machine Learning (ML)** is a subfield of artificial intelligence (AI) that focuses on building systems that can learn from data, identify patterns, and make decisions or predictions without being explicitly programmed for each specific task.\n",
      "\n",
      "---\n",
      "\n",
      "## 1. Core Idea\n",
      "\n",
      "- **Learning from Data**  \n",
      "  Instead of hard‑coding rules, ML models ingest large amounts of data (examples, features) and automatically discover relationships or patterns that explain the data.\n",
      "\n",
      "- **Generalization**  \n",
      "  Once trained, the model can apply what it has learned to new, unseen data—often with impressive accuracy.\n",
      "\n",
      "---\n",
      "\n",
      "## 2. Key Concepts\n",
      "\n",
      "| Concept | What it is | Why it matters |\n",
      "|--------|-----------|---------------|\n",
      "| **Feature** | A measurable attribute of the data (e.g., pixel intensity, word frequency). | The raw input that the algorithm uses to learn. |\n",
      "| **Label** | The target output (e.g., “spam” or “not spam”). | The answer the model should predict. |\n",
      "| **Training set** | Subset of data used to teach the model. | Provides examples for learning. |\n",
      "| **Test set** | Separate data used to evaluate performance. | Measures how well the model generalizes. |\n",
      "| **Loss function** | Metric that quantifies prediction error (e.g., mean squared error). | Guides the learning process. |\n",
      "| **Optimizer** | Algorithm that updates model parameters to reduce loss (e.g., SGD, Adam). | Drives the learning process. |\n",
      "| **Overfitting** | Model learns noise rather than underlying patterns. | Leads to poor performance on new data. |\n",
      "| **Regularization** | Techniques (e.g., L1/L2 penalties, dropout) to prevent overfitting. | Improves generalization. |\n",
      "\n",
      "---\n",
      "\n",
      "## 3. Main Types of ML\n",
      "\n",
      "| Type | Description | Typical Use‑Cases |\n",
      "|------|------------|------------------|\n",
      "| **Supervised Learning** | Learn mapping from inputs to known outputs. | Classification (spam detection), regression (house price prediction). |\n",
      "| **Unsupervised Learning** | Discover hidden structure without labels. | Clustering (customer segmentation), dimensionality reduction. |\n",
      "| **Semi‑Supervised Learning** | Mix of labeled and unlabeled data. | When labeling is expensive. |\n",
      "| **Reinforcement Learning** | Learn by interacting with an environment via rewards. | Robotics, game AI (AlphaGo). |\n",
      "| **Self‑Supervised / Contrastive Learning** | Generate labels from data itself. | Vision‑language models (CLIP). |\n",
      "\n",
      "---\n",
      "\n",
      "## 4. Popular Algorithms\n",
      "\n",
      "| Algorithm | Category | Strengths |\n",
      "|----------|---------|----------|\n",
      "| **Linear Regression / Logistic Regression** | Supervised | Simple, interpretable. |\n",
      "| **Decision Trees / Random Forests** | Supervised | Handles nonlinearities, interpretable. |\n",
      "| **Support Vector Machines (SVM)** | Supervised | Good for high‑dimensional data. |\n",
      "| **k‑Nearest Neighbors (kNN)** | Supervised | Non‑parametric, simple. |\n",
      "| **Neural Networks (Deep Learning)** | Supervised / Unsupervised | Handles images, text, speech. |\n",
      "| **k‑Means Clustering** | Unsupervised | Fast, simple. |\n",
      "| **Principal Component Analysis (PCA)** | Dimensionality Reduction | Removes redundancy. |\n",
      "| **Q‑Learning / Policy Gradients** | Reinforcement | Learns optimal actions. |\n",
      "\n",
      "---\n",
      "\n",
      "## 5. Workflow of a Typical ML Project\n",
      "\n",
      "1. **Define the Problem**  \n",
      "   Clarify the goal (classification, regression, clustering, etc.).\n",
      "\n",
      "2. **Collect & Prepare Data**  \n",
      "   Clean, preprocess (normalization, missing‑value handling).\n",
      "\n",
      "3. **Choose a Model**  \n",
      "   Pick an algorithm suited to the problem and data size.\n",
      "\n",
      "4. **Train the Model**  \n",
      "   Feed the training set, adjust parameters to minimize loss.\n",
      "\n",
      "5. **Validate & Tune**  \n",
      "   Use cross‑validation, hyperparameter tuning (grid search, Bayesian optimization).\n",
      "\n",
      "6. **Test & Deploy**  \n",
      "   Evaluate on a held‑out test set; deploy to production.\n",
      "\n",
      "---\n",
      "\n",
      "## 6. Common Pitfalls & Best Practices\n",
      "\n",
      "| Pitfall | Fix |\n",
      "|---------|-----|\n",
      "| **Data Leakage** | Ensure training and test sets are truly separate. |\n",
      "| **Small Data** | Use simpler models, data augmentation, transfer learning. |\n",
      "| **Noisy Labels** | Clean labels, robust loss functions. |\n",
      "| **Model Bias** | Check fairness, use bias‑mitigation techniques. |\n",
      "| **Over‑complex Models** | Prefer simpler models when performance is similar. |\n",
      "\n",
      "---\n",
      "\n",
      "## 7. Where is ML Going?\n",
      "\n",
      "- **Explainable AI (XAI)** – making models’ decisions understandable.  \n",
      "- **AutoML** – automating model selection and hyperparameter tuning.  \n",
      "- **Federated Learning** – training across distributed devices.  \n",
      "- **Integration with Edge Devices** – lightweight models for IoT.  \n",
      "- **Ethics & Governance** – ensuring responsible AI usage.\n",
      "\n",
      "---\n",
      "\n",
      "### Quick Takeaway\n",
      "\n",
      "Machine Learning is all about *letting data teach a computer* how to perform tasks, from recognizing images to predicting stock prices, by finding patterns that are hard to encode manually. The field blends statistics, computer science, and domain expertise to build models that learn, adapt, and generalize.\n"
     ]
    }
   ],
   "source": [
    "messages=graph_builder.invoke({\"messages\":\"What Machine Learning\"})\n",
    "\n",
    "for message in messages[\"messages\"]:\n",
    "    message.pretty_print()"
   ]
  },
  {
   "cell_type": "code",
   "execution_count": 89,
   "metadata": {},
   "outputs": [
    {
     "name": "stdout",
     "output_type": "stream",
     "text": [
      "================================\u001b[1m Human Message \u001b[0m=================================\n",
      "\n",
      "What 2 plus 3 plus 4\n",
      "==================================\u001b[1m Ai Message \u001b[0m==================================\n",
      "\n",
      "2 + 3 + 4 = 9.\n"
     ]
    }
   ],
   "source": [
    "messages=graph_builder.invoke({\"messages\":\"What 2 plus 3 plus 4\"})\n",
    "\n",
    "for message in messages[\"messages\"]:\n",
    "    message.pretty_print()"
   ]
  }
 ],
 "metadata": {
  "kernelspec": {
   "display_name": "agentnotes",
   "language": "python",
   "name": "python3"
  },
  "language_info": {
   "codemirror_mode": {
    "name": "ipython",
    "version": 3
   },
   "file_extension": ".py",
   "mimetype": "text/x-python",
   "name": "python",
   "nbconvert_exporter": "python",
   "pygments_lexer": "ipython3",
   "version": "3.11.11"
  }
 },
 "nbformat": 4,
 "nbformat_minor": 2
}
